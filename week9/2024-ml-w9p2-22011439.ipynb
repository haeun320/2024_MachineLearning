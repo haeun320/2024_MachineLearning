{
 "cells": [
  {
   "cell_type": "code",
   "execution_count": 1,
   "id": "36076b1d",
   "metadata": {
    "_cell_guid": "b1076dfc-b9ad-4769-8c92-a6c4dae69d19",
    "_uuid": "8f2839f25d086af736a60e9eeb907d3b93b6e0e5",
    "execution": {
     "iopub.execute_input": "2024-05-06T05:52:16.156841Z",
     "iopub.status.busy": "2024-05-06T05:52:16.156411Z",
     "iopub.status.idle": "2024-05-06T05:52:17.256126Z",
     "shell.execute_reply": "2024-05-06T05:52:17.254195Z"
    },
    "papermill": {
     "duration": 1.112854,
     "end_time": "2024-05-06T05:52:17.259039",
     "exception": false,
     "start_time": "2024-05-06T05:52:16.146185",
     "status": "completed"
    },
    "tags": []
   },
   "outputs": [
    {
     "name": "stdout",
     "output_type": "stream",
     "text": [
      "/kaggle/input/2024-ml-w9p2/train.csv\n",
      "/kaggle/input/2024-ml-w9p2/test.csv\n",
      "/kaggle/input/2024-ml-w9p2/sample_submit.csv\n"
     ]
    }
   ],
   "source": [
    "# This Python 3 environment comes with many helpful analytics libraries installed\n",
    "# It is defined by the kaggle/python Docker image: https://github.com/kaggle/docker-python\n",
    "# For example, here's several helpful packages to load\n",
    "\n",
    "import numpy as np # linear algebra\n",
    "import pandas as pd # data processing, CSV file I/O (e.g. pd.read_csv)\n",
    "\n",
    "# Input data files are available in the read-only \"../input/\" directory\n",
    "# For example, running this (by clicking run or pressing Shift+Enter) will list all files under the input directory\n",
    "\n",
    "import os\n",
    "for dirname, _, filenames in os.walk('/kaggle/input'):\n",
    "    for filename in filenames:\n",
    "        print(os.path.join(dirname, filename))\n",
    "\n",
    "# You can write up to 20GB to the current directory (/kaggle/working/) that gets preserved as output when you create a version using \"Save & Run All\" \n",
    "# You can also write temporary files to /kaggle/temp/, but they won't be saved outside of the current session"
   ]
  },
  {
   "cell_type": "code",
   "execution_count": 2,
   "id": "a0fe5e3e",
   "metadata": {
    "execution": {
     "iopub.execute_input": "2024-05-06T05:52:17.277236Z",
     "iopub.status.busy": "2024-05-06T05:52:17.276747Z",
     "iopub.status.idle": "2024-05-06T05:52:17.396980Z",
     "shell.execute_reply": "2024-05-06T05:52:17.395750Z"
    },
    "papermill": {
     "duration": 0.132351,
     "end_time": "2024-05-06T05:52:17.399593",
     "exception": false,
     "start_time": "2024-05-06T05:52:17.267242",
     "status": "completed"
    },
    "tags": []
   },
   "outputs": [
    {
     "data": {
      "text/html": [
       "<div>\n",
       "<style scoped>\n",
       "    .dataframe tbody tr th:only-of-type {\n",
       "        vertical-align: middle;\n",
       "    }\n",
       "\n",
       "    .dataframe tbody tr th {\n",
       "        vertical-align: top;\n",
       "    }\n",
       "\n",
       "    .dataframe thead th {\n",
       "        text-align: right;\n",
       "    }\n",
       "</style>\n",
       "<table border=\"1\" class=\"dataframe\">\n",
       "  <thead>\n",
       "    <tr style=\"text-align: right;\">\n",
       "      <th></th>\n",
       "      <th>index</th>\n",
       "      <th>Unnamed: 0</th>\n",
       "      <th>customerID</th>\n",
       "      <th>gender</th>\n",
       "      <th>SeniorCitizen</th>\n",
       "      <th>Partner</th>\n",
       "      <th>Dependents</th>\n",
       "      <th>tenure</th>\n",
       "      <th>PhoneService</th>\n",
       "      <th>MultipleLines</th>\n",
       "      <th>...</th>\n",
       "      <th>DeviceProtection</th>\n",
       "      <th>TechSupport</th>\n",
       "      <th>StreamingTV</th>\n",
       "      <th>StreamingMovies</th>\n",
       "      <th>Contract</th>\n",
       "      <th>PaperlessBilling</th>\n",
       "      <th>PaymentMethod</th>\n",
       "      <th>MonthlyCharges</th>\n",
       "      <th>TotalCharges</th>\n",
       "      <th>Churn</th>\n",
       "    </tr>\n",
       "  </thead>\n",
       "  <tbody>\n",
       "    <tr>\n",
       "      <th>0</th>\n",
       "      <td>0</td>\n",
       "      <td>1869</td>\n",
       "      <td>7010-BRBUU</td>\n",
       "      <td>Male</td>\n",
       "      <td>0</td>\n",
       "      <td>Yes</td>\n",
       "      <td>Yes</td>\n",
       "      <td>72</td>\n",
       "      <td>Yes</td>\n",
       "      <td>Yes</td>\n",
       "      <td>...</td>\n",
       "      <td>No internet service</td>\n",
       "      <td>No internet service</td>\n",
       "      <td>No internet service</td>\n",
       "      <td>No internet service</td>\n",
       "      <td>Two year</td>\n",
       "      <td>No</td>\n",
       "      <td>Credit card (automatic)</td>\n",
       "      <td>24.10</td>\n",
       "      <td>1734.65</td>\n",
       "      <td>No</td>\n",
       "    </tr>\n",
       "    <tr>\n",
       "      <th>1</th>\n",
       "      <td>1</td>\n",
       "      <td>4528</td>\n",
       "      <td>9688-YGXVR</td>\n",
       "      <td>Female</td>\n",
       "      <td>0</td>\n",
       "      <td>No</td>\n",
       "      <td>No</td>\n",
       "      <td>44</td>\n",
       "      <td>Yes</td>\n",
       "      <td>No</td>\n",
       "      <td>...</td>\n",
       "      <td>Yes</td>\n",
       "      <td>No</td>\n",
       "      <td>Yes</td>\n",
       "      <td>No</td>\n",
       "      <td>Month-to-month</td>\n",
       "      <td>Yes</td>\n",
       "      <td>Credit card (automatic)</td>\n",
       "      <td>88.15</td>\n",
       "      <td>3973.2</td>\n",
       "      <td>No</td>\n",
       "    </tr>\n",
       "    <tr>\n",
       "      <th>2</th>\n",
       "      <td>2</td>\n",
       "      <td>6344</td>\n",
       "      <td>9286-DOJGF</td>\n",
       "      <td>Female</td>\n",
       "      <td>1</td>\n",
       "      <td>Yes</td>\n",
       "      <td>No</td>\n",
       "      <td>38</td>\n",
       "      <td>Yes</td>\n",
       "      <td>Yes</td>\n",
       "      <td>...</td>\n",
       "      <td>No</td>\n",
       "      <td>No</td>\n",
       "      <td>No</td>\n",
       "      <td>No</td>\n",
       "      <td>Month-to-month</td>\n",
       "      <td>Yes</td>\n",
       "      <td>Bank transfer (automatic)</td>\n",
       "      <td>74.95</td>\n",
       "      <td>2869.85</td>\n",
       "      <td>Yes</td>\n",
       "    </tr>\n",
       "    <tr>\n",
       "      <th>3</th>\n",
       "      <td>3</td>\n",
       "      <td>6739</td>\n",
       "      <td>6994-KERXL</td>\n",
       "      <td>Male</td>\n",
       "      <td>0</td>\n",
       "      <td>No</td>\n",
       "      <td>No</td>\n",
       "      <td>4</td>\n",
       "      <td>Yes</td>\n",
       "      <td>No</td>\n",
       "      <td>...</td>\n",
       "      <td>No</td>\n",
       "      <td>No</td>\n",
       "      <td>No</td>\n",
       "      <td>Yes</td>\n",
       "      <td>Month-to-month</td>\n",
       "      <td>Yes</td>\n",
       "      <td>Electronic check</td>\n",
       "      <td>55.90</td>\n",
       "      <td>238.5</td>\n",
       "      <td>No</td>\n",
       "    </tr>\n",
       "    <tr>\n",
       "      <th>4</th>\n",
       "      <td>4</td>\n",
       "      <td>432</td>\n",
       "      <td>2181-UAESM</td>\n",
       "      <td>Male</td>\n",
       "      <td>0</td>\n",
       "      <td>No</td>\n",
       "      <td>No</td>\n",
       "      <td>2</td>\n",
       "      <td>Yes</td>\n",
       "      <td>No</td>\n",
       "      <td>...</td>\n",
       "      <td>Yes</td>\n",
       "      <td>No</td>\n",
       "      <td>No</td>\n",
       "      <td>No</td>\n",
       "      <td>Month-to-month</td>\n",
       "      <td>No</td>\n",
       "      <td>Electronic check</td>\n",
       "      <td>53.45</td>\n",
       "      <td>119.5</td>\n",
       "      <td>No</td>\n",
       "    </tr>\n",
       "  </tbody>\n",
       "</table>\n",
       "<p>5 rows × 23 columns</p>\n",
       "</div>"
      ],
      "text/plain": [
       "   index  Unnamed: 0  customerID  gender  SeniorCitizen Partner Dependents  \\\n",
       "0      0        1869  7010-BRBUU    Male              0     Yes        Yes   \n",
       "1      1        4528  9688-YGXVR  Female              0      No         No   \n",
       "2      2        6344  9286-DOJGF  Female              1     Yes         No   \n",
       "3      3        6739  6994-KERXL    Male              0      No         No   \n",
       "4      4         432  2181-UAESM    Male              0      No         No   \n",
       "\n",
       "   tenure PhoneService MultipleLines  ...     DeviceProtection  \\\n",
       "0      72          Yes           Yes  ...  No internet service   \n",
       "1      44          Yes            No  ...                  Yes   \n",
       "2      38          Yes           Yes  ...                   No   \n",
       "3       4          Yes            No  ...                   No   \n",
       "4       2          Yes            No  ...                  Yes   \n",
       "\n",
       "           TechSupport          StreamingTV      StreamingMovies  \\\n",
       "0  No internet service  No internet service  No internet service   \n",
       "1                   No                  Yes                   No   \n",
       "2                   No                   No                   No   \n",
       "3                   No                   No                  Yes   \n",
       "4                   No                   No                   No   \n",
       "\n",
       "         Contract PaperlessBilling              PaymentMethod MonthlyCharges  \\\n",
       "0        Two year               No    Credit card (automatic)          24.10   \n",
       "1  Month-to-month              Yes    Credit card (automatic)          88.15   \n",
       "2  Month-to-month              Yes  Bank transfer (automatic)          74.95   \n",
       "3  Month-to-month              Yes           Electronic check          55.90   \n",
       "4  Month-to-month               No           Electronic check          53.45   \n",
       "\n",
       "  TotalCharges Churn  \n",
       "0      1734.65    No  \n",
       "1       3973.2    No  \n",
       "2      2869.85   Yes  \n",
       "3        238.5    No  \n",
       "4        119.5    No  \n",
       "\n",
       "[5 rows x 23 columns]"
      ]
     },
     "execution_count": 2,
     "metadata": {},
     "output_type": "execute_result"
    }
   ],
   "source": [
    "#데이터셋 로드\n",
    "train = pd.read_csv(\"/kaggle/input/2024-ml-w9p2/train.csv\")\n",
    "test = pd.read_csv(\"/kaggle/input/2024-ml-w9p2/test.csv\")\n",
    "submit = pd.read_csv(\"/kaggle/input/2024-ml-w9p2/sample_submit.csv\")\n",
    "\n",
    "train.head()"
   ]
  },
  {
   "cell_type": "code",
   "execution_count": 3,
   "id": "7eb37dd4",
   "metadata": {
    "execution": {
     "iopub.execute_input": "2024-05-06T05:52:17.418114Z",
     "iopub.status.busy": "2024-05-06T05:52:17.417732Z",
     "iopub.status.idle": "2024-05-06T05:52:17.425579Z",
     "shell.execute_reply": "2024-05-06T05:52:17.424473Z"
    },
    "papermill": {
     "duration": 0.020241,
     "end_time": "2024-05-06T05:52:17.428178",
     "exception": false,
     "start_time": "2024-05-06T05:52:17.407937",
     "status": "completed"
    },
    "tags": []
   },
   "outputs": [],
   "source": [
    "#y 라벨 데이터\n",
    "y = train['Churn']\n",
    "train = train.drop(['Churn'], axis=1)"
   ]
  },
  {
   "cell_type": "code",
   "execution_count": 4,
   "id": "0b100b66",
   "metadata": {
    "execution": {
     "iopub.execute_input": "2024-05-06T05:52:17.447053Z",
     "iopub.status.busy": "2024-05-06T05:52:17.446673Z",
     "iopub.status.idle": "2024-05-06T05:52:17.454827Z",
     "shell.execute_reply": "2024-05-06T05:52:17.453306Z"
    },
    "papermill": {
     "duration": 0.020541,
     "end_time": "2024-05-06T05:52:17.457425",
     "exception": false,
     "start_time": "2024-05-06T05:52:17.436884",
     "status": "completed"
    },
    "tags": []
   },
   "outputs": [
    {
     "data": {
      "text/plain": [
       "Index(['index', 'Unnamed: 0', 'customerID', 'gender', 'SeniorCitizen',\n",
       "       'Partner', 'Dependents', 'tenure', 'PhoneService', 'MultipleLines',\n",
       "       'InternetService', 'OnlineSecurity', 'OnlineBackup', 'DeviceProtection',\n",
       "       'TechSupport', 'StreamingTV', 'StreamingMovies', 'Contract',\n",
       "       'PaperlessBilling', 'PaymentMethod', 'MonthlyCharges', 'TotalCharges'],\n",
       "      dtype='object')"
      ]
     },
     "execution_count": 4,
     "metadata": {},
     "output_type": "execute_result"
    }
   ],
   "source": [
    "#데이터 열 확인\n",
    "train.columns"
   ]
  },
  {
   "cell_type": "code",
   "execution_count": 5,
   "id": "23df241a",
   "metadata": {
    "execution": {
     "iopub.execute_input": "2024-05-06T05:52:17.476401Z",
     "iopub.status.busy": "2024-05-06T05:52:17.475986Z",
     "iopub.status.idle": "2024-05-06T05:52:17.483413Z",
     "shell.execute_reply": "2024-05-06T05:52:17.482328Z"
    },
    "papermill": {
     "duration": 0.020102,
     "end_time": "2024-05-06T05:52:17.486109",
     "exception": false,
     "start_time": "2024-05-06T05:52:17.466007",
     "status": "completed"
    },
    "tags": []
   },
   "outputs": [
    {
     "data": {
      "text/plain": [
       "(4788, 22)"
      ]
     },
     "execution_count": 5,
     "metadata": {},
     "output_type": "execute_result"
    }
   ],
   "source": [
    "#데이터 shape 확인\n",
    "train.shape"
   ]
  },
  {
   "cell_type": "code",
   "execution_count": 6,
   "id": "76296609",
   "metadata": {
    "execution": {
     "iopub.execute_input": "2024-05-06T05:52:17.505769Z",
     "iopub.status.busy": "2024-05-06T05:52:17.505363Z",
     "iopub.status.idle": "2024-05-06T05:52:17.629058Z",
     "shell.execute_reply": "2024-05-06T05:52:17.627288Z"
    },
    "papermill": {
     "duration": 0.137198,
     "end_time": "2024-05-06T05:52:17.632189",
     "exception": false,
     "start_time": "2024-05-06T05:52:17.494991",
     "status": "completed"
    },
    "tags": []
   },
   "outputs": [
    {
     "name": "stdout",
     "output_type": "stream",
     "text": [
      "<class 'pandas.core.frame.DataFrame'>\n",
      "RangeIndex: 4788 entries, 0 to 4787\n",
      "Data columns (total 19 columns):\n",
      " #   Column            Non-Null Count  Dtype  \n",
      "---  ------            --------------  -----  \n",
      " 0   gender            4788 non-null   object \n",
      " 1   SeniorCitizen     4788 non-null   int64  \n",
      " 2   Partner           4788 non-null   object \n",
      " 3   Dependents        4788 non-null   object \n",
      " 4   tenure            4788 non-null   int64  \n",
      " 5   PhoneService      4788 non-null   object \n",
      " 6   MultipleLines     4788 non-null   object \n",
      " 7   InternetService   4788 non-null   object \n",
      " 8   OnlineSecurity    4788 non-null   object \n",
      " 9   OnlineBackup      4788 non-null   object \n",
      " 10  DeviceProtection  4788 non-null   object \n",
      " 11  TechSupport       4788 non-null   object \n",
      " 12  StreamingTV       4788 non-null   object \n",
      " 13  StreamingMovies   4788 non-null   object \n",
      " 14  Contract          4788 non-null   object \n",
      " 15  PaperlessBilling  4788 non-null   object \n",
      " 16  PaymentMethod     4788 non-null   object \n",
      " 17  MonthlyCharges    4788 non-null   float64\n",
      " 18  TotalCharges      4788 non-null   object \n",
      "dtypes: float64(1), int64(2), object(16)\n",
      "memory usage: 710.8+ KB\n",
      "None\n",
      "<class 'pandas.core.frame.DataFrame'>\n",
      "RangeIndex: 1198 entries, 0 to 1197\n",
      "Data columns (total 19 columns):\n",
      " #   Column            Non-Null Count  Dtype  \n",
      "---  ------            --------------  -----  \n",
      " 0   gender            1198 non-null   object \n",
      " 1   SeniorCitizen     1198 non-null   int64  \n",
      " 2   Partner           1198 non-null   object \n",
      " 3   Dependents        1198 non-null   object \n",
      " 4   tenure            1198 non-null   int64  \n",
      " 5   PhoneService      1198 non-null   object \n",
      " 6   MultipleLines     1198 non-null   object \n",
      " 7   InternetService   1198 non-null   object \n",
      " 8   OnlineSecurity    1198 non-null   object \n",
      " 9   OnlineBackup      1198 non-null   object \n",
      " 10  DeviceProtection  1198 non-null   object \n",
      " 11  TechSupport       1198 non-null   object \n",
      " 12  StreamingTV       1198 non-null   object \n",
      " 13  StreamingMovies   1198 non-null   object \n",
      " 14  Contract          1198 non-null   object \n",
      " 15  PaperlessBilling  1198 non-null   object \n",
      " 16  PaymentMethod     1198 non-null   object \n",
      " 17  MonthlyCharges    1198 non-null   float64\n",
      " 18  TotalCharges      1198 non-null   float64\n",
      "dtypes: float64(2), int64(2), object(15)\n",
      "memory usage: 178.0+ KB\n",
      "None\n"
     ]
    }
   ],
   "source": [
    "#유의미하지 않은 값 삭제\n",
    "col = ['index', 'Unnamed: 0', 'customerID', 'gender', 'SeniorCitizen',\n",
    "       'Partner', 'Dependents', 'tenure', 'PhoneService', 'MultipleLines',\n",
    "       'InternetService', 'OnlineSecurity', 'OnlineBackup', 'DeviceProtection',\n",
    "       'TechSupport', 'StreamingTV', 'StreamingMovies', 'Contract',\n",
    "       'PaperlessBilling', 'PaymentMethod', 'MonthlyCharges', 'TotalCharges']\n",
    "\n",
    "for i in col:\n",
    "    if (len(np.unique(train[i])) == 4788):\n",
    "        train = train.drop([i], axis=1)\n",
    "        test = test.drop([i], axis=1)\n",
    "        \n",
    "print(train.info())\n",
    "print(test.info())"
   ]
  },
  {
   "cell_type": "code",
   "execution_count": 7,
   "id": "63c67ae6",
   "metadata": {
    "execution": {
     "iopub.execute_input": "2024-05-06T05:52:17.652401Z",
     "iopub.status.busy": "2024-05-06T05:52:17.651960Z",
     "iopub.status.idle": "2024-05-06T05:52:19.033033Z",
     "shell.execute_reply": "2024-05-06T05:52:19.031317Z"
    },
    "papermill": {
     "duration": 1.395047,
     "end_time": "2024-05-06T05:52:19.036398",
     "exception": false,
     "start_time": "2024-05-06T05:52:17.641351",
     "status": "completed"
    },
    "tags": []
   },
   "outputs": [],
   "source": [
    "#object 타입 실수형으로 변환\n",
    "col = ['gender', \n",
    "       'Partner', 'Dependents',  'PhoneService', 'MultipleLines',\n",
    "       'InternetService', 'OnlineSecurity', 'OnlineBackup', 'DeviceProtection',\n",
    "       'TechSupport', 'StreamingTV', 'StreamingMovies', 'Contract',\n",
    "       'PaperlessBilling', 'PaymentMethod']\n",
    "\n",
    "from sklearn.preprocessing import LabelEncoder\n",
    "\n",
    "for i in col:\n",
    "    le = LabelEncoder()\n",
    "    train[i] = le.fit_transform(train[i].values)\n",
    "    test[i] = le.transform(test[i].values)"
   ]
  },
  {
   "cell_type": "code",
   "execution_count": 8,
   "id": "8101a022",
   "metadata": {
    "execution": {
     "iopub.execute_input": "2024-05-06T05:52:19.056489Z",
     "iopub.status.busy": "2024-05-06T05:52:19.056067Z",
     "iopub.status.idle": "2024-05-06T05:52:19.079944Z",
     "shell.execute_reply": "2024-05-06T05:52:19.078366Z"
    },
    "papermill": {
     "duration": 0.037298,
     "end_time": "2024-05-06T05:52:19.082751",
     "exception": false,
     "start_time": "2024-05-06T05:52:19.045453",
     "status": "completed"
    },
    "tags": []
   },
   "outputs": [
    {
     "name": "stdout",
     "output_type": "stream",
     "text": [
      "<class 'pandas.core.frame.DataFrame'>\n",
      "RangeIndex: 4788 entries, 0 to 4787\n",
      "Data columns (total 19 columns):\n",
      " #   Column            Non-Null Count  Dtype  \n",
      "---  ------            --------------  -----  \n",
      " 0   gender            4788 non-null   int64  \n",
      " 1   SeniorCitizen     4788 non-null   int64  \n",
      " 2   Partner           4788 non-null   int64  \n",
      " 3   Dependents        4788 non-null   int64  \n",
      " 4   tenure            4788 non-null   int64  \n",
      " 5   PhoneService      4788 non-null   int64  \n",
      " 6   MultipleLines     4788 non-null   int64  \n",
      " 7   InternetService   4788 non-null   int64  \n",
      " 8   OnlineSecurity    4788 non-null   int64  \n",
      " 9   OnlineBackup      4788 non-null   int64  \n",
      " 10  DeviceProtection  4788 non-null   int64  \n",
      " 11  TechSupport       4788 non-null   int64  \n",
      " 12  StreamingTV       4788 non-null   int64  \n",
      " 13  StreamingMovies   4788 non-null   int64  \n",
      " 14  Contract          4788 non-null   int64  \n",
      " 15  PaperlessBilling  4788 non-null   int64  \n",
      " 16  PaymentMethod     4788 non-null   int64  \n",
      " 17  MonthlyCharges    4788 non-null   float64\n",
      " 18  TotalCharges      4788 non-null   object \n",
      "dtypes: float64(1), int64(17), object(1)\n",
      "memory usage: 710.8+ KB\n",
      "<class 'pandas.core.frame.DataFrame'>\n",
      "RangeIndex: 1198 entries, 0 to 1197\n",
      "Data columns (total 19 columns):\n",
      " #   Column            Non-Null Count  Dtype  \n",
      "---  ------            --------------  -----  \n",
      " 0   gender            1198 non-null   int64  \n",
      " 1   SeniorCitizen     1198 non-null   int64  \n",
      " 2   Partner           1198 non-null   int64  \n",
      " 3   Dependents        1198 non-null   int64  \n",
      " 4   tenure            1198 non-null   int64  \n",
      " 5   PhoneService      1198 non-null   int64  \n",
      " 6   MultipleLines     1198 non-null   int64  \n",
      " 7   InternetService   1198 non-null   int64  \n",
      " 8   OnlineSecurity    1198 non-null   int64  \n",
      " 9   OnlineBackup      1198 non-null   int64  \n",
      " 10  DeviceProtection  1198 non-null   int64  \n",
      " 11  TechSupport       1198 non-null   int64  \n",
      " 12  StreamingTV       1198 non-null   int64  \n",
      " 13  StreamingMovies   1198 non-null   int64  \n",
      " 14  Contract          1198 non-null   int64  \n",
      " 15  PaperlessBilling  1198 non-null   int64  \n",
      " 16  PaymentMethod     1198 non-null   int64  \n",
      " 17  MonthlyCharges    1198 non-null   float64\n",
      " 18  TotalCharges      1198 non-null   float64\n",
      "dtypes: float64(2), int64(17)\n",
      "memory usage: 178.0 KB\n"
     ]
    }
   ],
   "source": [
    "#확인\n",
    "train.info()\n",
    "test.info()"
   ]
  },
  {
   "cell_type": "code",
   "execution_count": 9,
   "id": "b8f83568",
   "metadata": {
    "execution": {
     "iopub.execute_input": "2024-05-06T05:52:19.103169Z",
     "iopub.status.busy": "2024-05-06T05:52:19.102777Z",
     "iopub.status.idle": "2024-05-06T05:52:19.107900Z",
     "shell.execute_reply": "2024-05-06T05:52:19.106777Z"
    },
    "papermill": {
     "duration": 0.018167,
     "end_time": "2024-05-06T05:52:19.110413",
     "exception": false,
     "start_time": "2024-05-06T05:52:19.092246",
     "status": "completed"
    },
    "tags": []
   },
   "outputs": [],
   "source": [
    "#TotalCharges float 타입으로 변환\n",
    "#train['TotalCharges'] = pd.to_numeric(train['TotalCharges'], downcast='float')"
   ]
  },
  {
   "cell_type": "code",
   "execution_count": 10,
   "id": "bd8e48f6",
   "metadata": {
    "execution": {
     "iopub.execute_input": "2024-05-06T05:52:19.131381Z",
     "iopub.status.busy": "2024-05-06T05:52:19.130923Z",
     "iopub.status.idle": "2024-05-06T05:52:19.138225Z",
     "shell.execute_reply": "2024-05-06T05:52:19.137109Z"
    },
    "papermill": {
     "duration": 0.020098,
     "end_time": "2024-05-06T05:52:19.140735",
     "exception": false,
     "start_time": "2024-05-06T05:52:19.120637",
     "status": "completed"
    },
    "tags": []
   },
   "outputs": [
    {
     "data": {
      "text/plain": [
       "' '"
      ]
     },
     "execution_count": 10,
     "metadata": {},
     "output_type": "execute_result"
    }
   ],
   "source": [
    "#280번째 데이터 확인\n",
    "train['TotalCharges'][280]"
   ]
  },
  {
   "cell_type": "code",
   "execution_count": 11,
   "id": "9b393114",
   "metadata": {
    "execution": {
     "iopub.execute_input": "2024-05-06T05:52:19.162231Z",
     "iopub.status.busy": "2024-05-06T05:52:19.161273Z",
     "iopub.status.idle": "2024-05-06T05:52:19.173620Z",
     "shell.execute_reply": "2024-05-06T05:52:19.172342Z"
    },
    "papermill": {
     "duration": 0.025961,
     "end_time": "2024-05-06T05:52:19.176072",
     "exception": false,
     "start_time": "2024-05-06T05:52:19.150111",
     "status": "completed"
    },
    "tags": []
   },
   "outputs": [
    {
     "data": {
      "text/plain": [
       "Index([280, 512, 2213, 2470, 2617, 3457, 4297, 4303, 4555, 4759], dtype='int64')"
      ]
     },
     "execution_count": 11,
     "metadata": {},
     "output_type": "execute_result"
    }
   ],
   "source": [
    "#train에 ' '로 채워진 데이터 삭제\n",
    "drop_idx = train[train['TotalCharges'] == \" \"].index\n",
    "drop_idx"
   ]
  },
  {
   "cell_type": "code",
   "execution_count": 12,
   "id": "86d65c15",
   "metadata": {
    "execution": {
     "iopub.execute_input": "2024-05-06T05:52:19.196919Z",
     "iopub.status.busy": "2024-05-06T05:52:19.196490Z",
     "iopub.status.idle": "2024-05-06T05:52:19.206095Z",
     "shell.execute_reply": "2024-05-06T05:52:19.205117Z"
    },
    "papermill": {
     "duration": 0.023204,
     "end_time": "2024-05-06T05:52:19.208754",
     "exception": false,
     "start_time": "2024-05-06T05:52:19.185550",
     "status": "completed"
    },
    "tags": []
   },
   "outputs": [],
   "source": [
    "#TotalCharges 데이터가 비어있는 데이터 삭제\n",
    "train = train.drop(drop_idx, axis=0)\n",
    "y = y.drop(drop_idx)"
   ]
  },
  {
   "cell_type": "code",
   "execution_count": 13,
   "id": "1bc2efad",
   "metadata": {
    "execution": {
     "iopub.execute_input": "2024-05-06T05:52:19.229106Z",
     "iopub.status.busy": "2024-05-06T05:52:19.228705Z",
     "iopub.status.idle": "2024-05-06T05:52:19.236383Z",
     "shell.execute_reply": "2024-05-06T05:52:19.235085Z"
    },
    "papermill": {
     "duration": 0.021032,
     "end_time": "2024-05-06T05:52:19.239139",
     "exception": false,
     "start_time": "2024-05-06T05:52:19.218107",
     "status": "completed"
    },
    "tags": []
   },
   "outputs": [],
   "source": [
    "#TotalCharges float 타입으로 변환\n",
    "train['TotalCharges'] = train['TotalCharges'].astype('float64')"
   ]
  },
  {
   "cell_type": "code",
   "execution_count": 14,
   "id": "235ec3fb",
   "metadata": {
    "execution": {
     "iopub.execute_input": "2024-05-06T05:52:19.260080Z",
     "iopub.status.busy": "2024-05-06T05:52:19.259633Z",
     "iopub.status.idle": "2024-05-06T05:52:19.274921Z",
     "shell.execute_reply": "2024-05-06T05:52:19.273771Z"
    },
    "papermill": {
     "duration": 0.029121,
     "end_time": "2024-05-06T05:52:19.277632",
     "exception": false,
     "start_time": "2024-05-06T05:52:19.248511",
     "status": "completed"
    },
    "tags": []
   },
   "outputs": [
    {
     "name": "stdout",
     "output_type": "stream",
     "text": [
      "<class 'pandas.core.frame.DataFrame'>\n",
      "Index: 4778 entries, 0 to 4787\n",
      "Data columns (total 19 columns):\n",
      " #   Column            Non-Null Count  Dtype  \n",
      "---  ------            --------------  -----  \n",
      " 0   gender            4778 non-null   int64  \n",
      " 1   SeniorCitizen     4778 non-null   int64  \n",
      " 2   Partner           4778 non-null   int64  \n",
      " 3   Dependents        4778 non-null   int64  \n",
      " 4   tenure            4778 non-null   int64  \n",
      " 5   PhoneService      4778 non-null   int64  \n",
      " 6   MultipleLines     4778 non-null   int64  \n",
      " 7   InternetService   4778 non-null   int64  \n",
      " 8   OnlineSecurity    4778 non-null   int64  \n",
      " 9   OnlineBackup      4778 non-null   int64  \n",
      " 10  DeviceProtection  4778 non-null   int64  \n",
      " 11  TechSupport       4778 non-null   int64  \n",
      " 12  StreamingTV       4778 non-null   int64  \n",
      " 13  StreamingMovies   4778 non-null   int64  \n",
      " 14  Contract          4778 non-null   int64  \n",
      " 15  PaperlessBilling  4778 non-null   int64  \n",
      " 16  PaymentMethod     4778 non-null   int64  \n",
      " 17  MonthlyCharges    4778 non-null   float64\n",
      " 18  TotalCharges      4778 non-null   float64\n",
      "dtypes: float64(2), int64(17)\n",
      "memory usage: 746.6 KB\n"
     ]
    }
   ],
   "source": [
    "train.info()"
   ]
  },
  {
   "cell_type": "code",
   "execution_count": 15,
   "id": "ad31466e",
   "metadata": {
    "execution": {
     "iopub.execute_input": "2024-05-06T05:52:19.298401Z",
     "iopub.status.busy": "2024-05-06T05:52:19.297971Z",
     "iopub.status.idle": "2024-05-06T05:52:19.304007Z",
     "shell.execute_reply": "2024-05-06T05:52:19.302745Z"
    },
    "papermill": {
     "duration": 0.019359,
     "end_time": "2024-05-06T05:52:19.306451",
     "exception": false,
     "start_time": "2024-05-06T05:52:19.287092",
     "status": "completed"
    },
    "tags": []
   },
   "outputs": [],
   "source": [
    "#random seed 고정\n",
    "import random\n",
    "import os\n",
    "seed = 42\n",
    "random.seed(seed)\n",
    "np.random.seed(seed)\n",
    "os.environ[\"PYTHONHASHSEED\"] = str(seed)"
   ]
  },
  {
   "cell_type": "code",
   "execution_count": 16,
   "id": "86d1145c",
   "metadata": {
    "execution": {
     "iopub.execute_input": "2024-05-06T05:52:19.326923Z",
     "iopub.status.busy": "2024-05-06T05:52:19.326544Z",
     "iopub.status.idle": "2024-05-06T05:52:19.745954Z",
     "shell.execute_reply": "2024-05-06T05:52:19.744806Z"
    },
    "papermill": {
     "duration": 0.434036,
     "end_time": "2024-05-06T05:52:19.749958",
     "exception": false,
     "start_time": "2024-05-06T05:52:19.315922",
     "status": "completed"
    },
    "tags": []
   },
   "outputs": [
    {
     "name": "stdout",
     "output_type": "stream",
     "text": [
      "0.8061950606948514\n"
     ]
    }
   ],
   "source": [
    "#로지스틱 회귀\n",
    "from sklearn.linear_model import LogisticRegression\n",
    "logit = LogisticRegression(random_state=seed, max_iter=1000).fit(train, y)\n",
    "\n",
    "#train 예측 및 정확도 출력\n",
    "train_pred = logit.predict(train)\n",
    "\n",
    "from sklearn.metrics import accuracy_score\n",
    "print(accuracy_score(train_pred, y))"
   ]
  },
  {
   "cell_type": "code",
   "execution_count": 17,
   "id": "4f941610",
   "metadata": {
    "execution": {
     "iopub.execute_input": "2024-05-06T05:52:19.793372Z",
     "iopub.status.busy": "2024-05-06T05:52:19.791776Z",
     "iopub.status.idle": "2024-05-06T05:52:19.813445Z",
     "shell.execute_reply": "2024-05-06T05:52:19.812313Z"
    },
    "papermill": {
     "duration": 0.048046,
     "end_time": "2024-05-06T05:52:19.818106",
     "exception": false,
     "start_time": "2024-05-06T05:52:19.770060",
     "status": "completed"
    },
    "tags": []
   },
   "outputs": [
    {
     "name": "stdout",
     "output_type": "stream",
     "text": [
      "['No' 'No' 'No' ... 'No' 'No' 'Yes']\n",
      "<class 'pandas.core.frame.DataFrame'>\n",
      "RangeIndex: 1198 entries, 0 to 1197\n",
      "Data columns (total 2 columns):\n",
      " #   Column  Non-Null Count  Dtype  \n",
      "---  ------  --------------  -----  \n",
      " 0   index   1198 non-null   int64  \n",
      " 1   Churn   0 non-null      float64\n",
      "dtypes: float64(1), int64(1)\n",
      "memory usage: 18.8 KB\n"
     ]
    }
   ],
   "source": [
    "#test 데이터 예측\n",
    "test_pred = logit.predict(test)\n",
    "print(test_pred)\n",
    "submit.info()"
   ]
  },
  {
   "cell_type": "code",
   "execution_count": 18,
   "id": "92469fa0",
   "metadata": {
    "execution": {
     "iopub.execute_input": "2024-05-06T05:52:19.860756Z",
     "iopub.status.busy": "2024-05-06T05:52:19.860085Z",
     "iopub.status.idle": "2024-05-06T05:52:19.871342Z",
     "shell.execute_reply": "2024-05-06T05:52:19.870274Z"
    },
    "papermill": {
     "duration": 0.037021,
     "end_time": "2024-05-06T05:52:19.875231",
     "exception": false,
     "start_time": "2024-05-06T05:52:19.838210",
     "status": "completed"
    },
    "tags": []
   },
   "outputs": [
    {
     "name": "stderr",
     "output_type": "stream",
     "text": [
      "/tmp/ipykernel_18/722162499.py:3: FutureWarning: Downcasting behavior in `replace` is deprecated and will be removed in a future version. To retain the old behavior, explicitly call `result.infer_objects(copy=False)`. To opt-in to the future behavior, set `pd.set_option('future.no_silent_downcasting', True)`\n",
      "  test_pred.replace({'Yes':1, 'No':0}, inplace=True)\n"
     ]
    }
   ],
   "source": [
    "#yes=1, no=0\n",
    "test_pred = pd.Series(test_pred)\n",
    "test_pred.replace({'Yes':1, 'No':0}, inplace=True)"
   ]
  },
  {
   "cell_type": "code",
   "execution_count": 19,
   "id": "7b0ef279",
   "metadata": {
    "execution": {
     "iopub.execute_input": "2024-05-06T05:52:19.918583Z",
     "iopub.status.busy": "2024-05-06T05:52:19.917900Z",
     "iopub.status.idle": "2024-05-06T05:52:19.926408Z",
     "shell.execute_reply": "2024-05-06T05:52:19.925345Z"
    },
    "papermill": {
     "duration": 0.034818,
     "end_time": "2024-05-06T05:52:19.930298",
     "exception": false,
     "start_time": "2024-05-06T05:52:19.895480",
     "status": "completed"
    },
    "tags": []
   },
   "outputs": [
    {
     "name": "stdout",
     "output_type": "stream",
     "text": [
      "0       0\n",
      "1       0\n",
      "2       0\n",
      "3       1\n",
      "4       0\n",
      "       ..\n",
      "1193    0\n",
      "1194    0\n",
      "1195    0\n",
      "1196    0\n",
      "1197    1\n",
      "Length: 1198, dtype: int64\n"
     ]
    }
   ],
   "source": [
    "print(test_pred)"
   ]
  },
  {
   "cell_type": "code",
   "execution_count": 20,
   "id": "643cf2d7",
   "metadata": {
    "execution": {
     "iopub.execute_input": "2024-05-06T05:52:19.951865Z",
     "iopub.status.busy": "2024-05-06T05:52:19.951443Z",
     "iopub.status.idle": "2024-05-06T05:52:19.962985Z",
     "shell.execute_reply": "2024-05-06T05:52:19.961840Z"
    },
    "papermill": {
     "duration": 0.025624,
     "end_time": "2024-05-06T05:52:19.965813",
     "exception": false,
     "start_time": "2024-05-06T05:52:19.940189",
     "status": "completed"
    },
    "tags": []
   },
   "outputs": [
    {
     "name": "stdout",
     "output_type": "stream",
     "text": [
      "<class 'pandas.core.frame.DataFrame'>\n",
      "RangeIndex: 1198 entries, 0 to 1197\n",
      "Data columns (total 2 columns):\n",
      " #   Column  Non-Null Count  Dtype  \n",
      "---  ------  --------------  -----  \n",
      " 0   index   1198 non-null   int64  \n",
      " 1   Churn   0 non-null      float64\n",
      "dtypes: float64(1), int64(1)\n",
      "memory usage: 18.8 KB\n"
     ]
    }
   ],
   "source": [
    "#submit 확인\n",
    "submit.info()"
   ]
  },
  {
   "cell_type": "code",
   "execution_count": 21,
   "id": "97372b52",
   "metadata": {
    "execution": {
     "iopub.execute_input": "2024-05-06T05:52:19.987758Z",
     "iopub.status.busy": "2024-05-06T05:52:19.987327Z",
     "iopub.status.idle": "2024-05-06T05:52:20.003087Z",
     "shell.execute_reply": "2024-05-06T05:52:20.001855Z"
    },
    "papermill": {
     "duration": 0.029802,
     "end_time": "2024-05-06T05:52:20.005638",
     "exception": false,
     "start_time": "2024-05-06T05:52:19.975836",
     "status": "completed"
    },
    "tags": []
   },
   "outputs": [
    {
     "data": {
      "text/html": [
       "<div>\n",
       "<style scoped>\n",
       "    .dataframe tbody tr th:only-of-type {\n",
       "        vertical-align: middle;\n",
       "    }\n",
       "\n",
       "    .dataframe tbody tr th {\n",
       "        vertical-align: top;\n",
       "    }\n",
       "\n",
       "    .dataframe thead th {\n",
       "        text-align: right;\n",
       "    }\n",
       "</style>\n",
       "<table border=\"1\" class=\"dataframe\">\n",
       "  <thead>\n",
       "    <tr style=\"text-align: right;\">\n",
       "      <th></th>\n",
       "      <th>index</th>\n",
       "      <th>Churn</th>\n",
       "    </tr>\n",
       "  </thead>\n",
       "  <tbody>\n",
       "    <tr>\n",
       "      <th>0</th>\n",
       "      <td>5</td>\n",
       "      <td>0</td>\n",
       "    </tr>\n",
       "    <tr>\n",
       "      <th>1</th>\n",
       "      <td>10</td>\n",
       "      <td>0</td>\n",
       "    </tr>\n",
       "    <tr>\n",
       "      <th>2</th>\n",
       "      <td>13</td>\n",
       "      <td>0</td>\n",
       "    </tr>\n",
       "    <tr>\n",
       "      <th>3</th>\n",
       "      <td>18</td>\n",
       "      <td>1</td>\n",
       "    </tr>\n",
       "    <tr>\n",
       "      <th>4</th>\n",
       "      <td>20</td>\n",
       "      <td>0</td>\n",
       "    </tr>\n",
       "  </tbody>\n",
       "</table>\n",
       "</div>"
      ],
      "text/plain": [
       "   index  Churn\n",
       "0      5      0\n",
       "1     10      0\n",
       "2     13      0\n",
       "3     18      1\n",
       "4     20      0"
      ]
     },
     "execution_count": 21,
     "metadata": {},
     "output_type": "execute_result"
    }
   ],
   "source": [
    "#submit 저장\n",
    "submit['Churn'] = test_pred\n",
    "submit.to_csv('submit.csv', index=False)\n",
    "submit.head()"
   ]
  },
  {
   "cell_type": "code",
   "execution_count": null,
   "id": "66962de8",
   "metadata": {
    "papermill": {
     "duration": 0.010066,
     "end_time": "2024-05-06T05:52:20.026054",
     "exception": false,
     "start_time": "2024-05-06T05:52:20.015988",
     "status": "completed"
    },
    "tags": []
   },
   "outputs": [],
   "source": []
  }
 ],
 "metadata": {
  "kaggle": {
   "accelerator": "none",
   "dataSources": [
    {
     "databundleVersionId": 8065716,
     "sourceId": 73255,
     "sourceType": "competition"
    }
   ],
   "dockerImageVersionId": 30698,
   "isGpuEnabled": false,
   "isInternetEnabled": true,
   "language": "python",
   "sourceType": "notebook"
  },
  "kernelspec": {
   "display_name": "Python 3",
   "language": "python",
   "name": "python3"
  },
  "language_info": {
   "codemirror_mode": {
    "name": "ipython",
    "version": 3
   },
   "file_extension": ".py",
   "mimetype": "text/x-python",
   "name": "python",
   "nbconvert_exporter": "python",
   "pygments_lexer": "ipython3",
   "version": "3.10.13"
  },
  "papermill": {
   "default_parameters": {},
   "duration": 7.867065,
   "end_time": "2024-05-06T05:52:20.659795",
   "environment_variables": {},
   "exception": null,
   "input_path": "__notebook__.ipynb",
   "output_path": "__notebook__.ipynb",
   "parameters": {},
   "start_time": "2024-05-06T05:52:12.792730",
   "version": "2.5.0"
  }
 },
 "nbformat": 4,
 "nbformat_minor": 5
}
