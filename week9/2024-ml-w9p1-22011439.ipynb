{
 "cells": [
  {
   "cell_type": "code",
   "execution_count": 1,
   "id": "f2da8ce7",
   "metadata": {
    "_cell_guid": "b1076dfc-b9ad-4769-8c92-a6c4dae69d19",
    "_uuid": "8f2839f25d086af736a60e9eeb907d3b93b6e0e5",
    "execution": {
     "iopub.execute_input": "2024-05-06T04:13:16.349826Z",
     "iopub.status.busy": "2024-05-06T04:13:16.348480Z",
     "iopub.status.idle": "2024-05-06T04:13:17.340770Z",
     "shell.execute_reply": "2024-05-06T04:13:17.339601Z"
    },
    "papermill": {
     "duration": 1.002813,
     "end_time": "2024-05-06T04:13:17.343288",
     "exception": false,
     "start_time": "2024-05-06T04:13:16.340475",
     "status": "completed"
    },
    "tags": []
   },
   "outputs": [
    {
     "name": "stdout",
     "output_type": "stream",
     "text": [
      "/kaggle/input/2024-ml-w9p1/train.csv\n",
      "/kaggle/input/2024-ml-w9p1/test.csv\n",
      "/kaggle/input/2024-ml-w9p1/sample_submit.csv\n"
     ]
    }
   ],
   "source": [
    "# This Python 3 environment comes with many helpful analytics libraries installed\n",
    "# It is defined by the kaggle/python Docker image: https://github.com/kaggle/docker-python\n",
    "# For example, here's several helpful packages to load\n",
    "\n",
    "import numpy as np # linear algebra\n",
    "import pandas as pd # data processing, CSV file I/O (e.g. pd.read_csv)\n",
    "\n",
    "# Input data files are available in the read-only \"../input/\" directory\n",
    "# For example, running this (by clicking run or pressing Shift+Enter) will list all files under the input directory\n",
    "\n",
    "import os\n",
    "for dirname, _, filenames in os.walk('/kaggle/input'):\n",
    "    for filename in filenames:\n",
    "        print(os.path.join(dirname, filename))\n",
    "\n",
    "# You can write up to 20GB to the current directory (/kaggle/working/) that gets preserved as output when you create a version using \"Save & Run All\" \n",
    "# You can also write temporary files to /kaggle/temp/, but they won't be saved outside of the current session"
   ]
  },
  {
   "cell_type": "code",
   "execution_count": 2,
   "id": "f03643de",
   "metadata": {
    "execution": {
     "iopub.execute_input": "2024-05-06T04:13:17.357998Z",
     "iopub.status.busy": "2024-05-06T04:13:17.357105Z",
     "iopub.status.idle": "2024-05-06T04:13:17.488199Z",
     "shell.execute_reply": "2024-05-06T04:13:17.487085Z"
    },
    "papermill": {
     "duration": 0.141255,
     "end_time": "2024-05-06T04:13:17.490813",
     "exception": false,
     "start_time": "2024-05-06T04:13:17.349558",
     "status": "completed"
    },
    "tags": []
   },
   "outputs": [],
   "source": [
    "#데이터셋 로드\n",
    "train = pd.read_csv(\"/kaggle/input/2024-ml-w9p1/train.csv\")\n",
    "test = pd.read_csv(\"/kaggle/input/2024-ml-w9p1/test.csv\")\n",
    "submit = pd.read_csv(\"/kaggle/input/2024-ml-w9p1/sample_submit.csv\")"
   ]
  },
  {
   "cell_type": "code",
   "execution_count": 3,
   "id": "f881acd9",
   "metadata": {
    "execution": {
     "iopub.execute_input": "2024-05-06T04:13:17.504833Z",
     "iopub.status.busy": "2024-05-06T04:13:17.504049Z",
     "iopub.status.idle": "2024-05-06T04:13:17.531620Z",
     "shell.execute_reply": "2024-05-06T04:13:17.530309Z"
    },
    "papermill": {
     "duration": 0.038046,
     "end_time": "2024-05-06T04:13:17.534811",
     "exception": false,
     "start_time": "2024-05-06T04:13:17.496765",
     "status": "completed"
    },
    "tags": []
   },
   "outputs": [],
   "source": [
    "#target 정보 분리\n",
    "y = train['target']\n",
    "train = train.drop(['target'], axis=1)"
   ]
  },
  {
   "cell_type": "code",
   "execution_count": 4,
   "id": "f9ea3b3a",
   "metadata": {
    "execution": {
     "iopub.execute_input": "2024-05-06T04:13:17.549481Z",
     "iopub.status.busy": "2024-05-06T04:13:17.548974Z",
     "iopub.status.idle": "2024-05-06T04:13:17.574382Z",
     "shell.execute_reply": "2024-05-06T04:13:17.573537Z"
    },
    "papermill": {
     "duration": 0.035116,
     "end_time": "2024-05-06T04:13:17.576559",
     "exception": false,
     "start_time": "2024-05-06T04:13:17.541443",
     "status": "completed"
    },
    "tags": []
   },
   "outputs": [
    {
     "data": {
      "text/html": [
       "<div>\n",
       "<style scoped>\n",
       "    .dataframe tbody tr th:only-of-type {\n",
       "        vertical-align: middle;\n",
       "    }\n",
       "\n",
       "    .dataframe tbody tr th {\n",
       "        vertical-align: top;\n",
       "    }\n",
       "\n",
       "    .dataframe thead th {\n",
       "        text-align: right;\n",
       "    }\n",
       "</style>\n",
       "<table border=\"1\" class=\"dataframe\">\n",
       "  <thead>\n",
       "    <tr style=\"text-align: right;\">\n",
       "      <th></th>\n",
       "      <th>index</th>\n",
       "      <th>enrollee_id</th>\n",
       "      <th>city</th>\n",
       "      <th>city_development_index</th>\n",
       "      <th>gender</th>\n",
       "      <th>relevent_experience</th>\n",
       "      <th>enrolled_university</th>\n",
       "      <th>education_level</th>\n",
       "      <th>major_discipline</th>\n",
       "      <th>experience</th>\n",
       "      <th>company_size</th>\n",
       "      <th>company_type</th>\n",
       "      <th>last_new_job</th>\n",
       "      <th>training_hours</th>\n",
       "    </tr>\n",
       "  </thead>\n",
       "  <tbody>\n",
       "    <tr>\n",
       "      <th>0</th>\n",
       "      <td>0</td>\n",
       "      <td>8949</td>\n",
       "      <td>city_103</td>\n",
       "      <td>0.920</td>\n",
       "      <td>Male</td>\n",
       "      <td>Has relevent experience</td>\n",
       "      <td>no_enrollment</td>\n",
       "      <td>Graduate</td>\n",
       "      <td>STEM</td>\n",
       "      <td>&gt;20</td>\n",
       "      <td>NaN</td>\n",
       "      <td>NaN</td>\n",
       "      <td>1</td>\n",
       "      <td>36</td>\n",
       "    </tr>\n",
       "    <tr>\n",
       "      <th>1</th>\n",
       "      <td>1</td>\n",
       "      <td>29725</td>\n",
       "      <td>city_40</td>\n",
       "      <td>0.776</td>\n",
       "      <td>Male</td>\n",
       "      <td>No relevent experience</td>\n",
       "      <td>no_enrollment</td>\n",
       "      <td>Graduate</td>\n",
       "      <td>STEM</td>\n",
       "      <td>15</td>\n",
       "      <td>50-99</td>\n",
       "      <td>Pvt Ltd</td>\n",
       "      <td>&gt;4</td>\n",
       "      <td>47</td>\n",
       "    </tr>\n",
       "    <tr>\n",
       "      <th>2</th>\n",
       "      <td>3</td>\n",
       "      <td>33241</td>\n",
       "      <td>city_115</td>\n",
       "      <td>0.789</td>\n",
       "      <td>NaN</td>\n",
       "      <td>No relevent experience</td>\n",
       "      <td>NaN</td>\n",
       "      <td>Graduate</td>\n",
       "      <td>Business Degree</td>\n",
       "      <td>&lt;1</td>\n",
       "      <td>NaN</td>\n",
       "      <td>Pvt Ltd</td>\n",
       "      <td>never</td>\n",
       "      <td>52</td>\n",
       "    </tr>\n",
       "    <tr>\n",
       "      <th>3</th>\n",
       "      <td>4</td>\n",
       "      <td>666</td>\n",
       "      <td>city_162</td>\n",
       "      <td>0.767</td>\n",
       "      <td>Male</td>\n",
       "      <td>Has relevent experience</td>\n",
       "      <td>no_enrollment</td>\n",
       "      <td>Masters</td>\n",
       "      <td>STEM</td>\n",
       "      <td>&gt;20</td>\n",
       "      <td>50-99</td>\n",
       "      <td>Funded Startup</td>\n",
       "      <td>4</td>\n",
       "      <td>8</td>\n",
       "    </tr>\n",
       "    <tr>\n",
       "      <th>4</th>\n",
       "      <td>5</td>\n",
       "      <td>21651</td>\n",
       "      <td>city_176</td>\n",
       "      <td>0.764</td>\n",
       "      <td>NaN</td>\n",
       "      <td>Has relevent experience</td>\n",
       "      <td>Part time course</td>\n",
       "      <td>Graduate</td>\n",
       "      <td>STEM</td>\n",
       "      <td>11</td>\n",
       "      <td>NaN</td>\n",
       "      <td>NaN</td>\n",
       "      <td>1</td>\n",
       "      <td>24</td>\n",
       "    </tr>\n",
       "  </tbody>\n",
       "</table>\n",
       "</div>"
      ],
      "text/plain": [
       "   index  enrollee_id      city  city_development_index gender  \\\n",
       "0      0         8949  city_103                   0.920   Male   \n",
       "1      1        29725   city_40                   0.776   Male   \n",
       "2      3        33241  city_115                   0.789    NaN   \n",
       "3      4          666  city_162                   0.767   Male   \n",
       "4      5        21651  city_176                   0.764    NaN   \n",
       "\n",
       "       relevent_experience enrolled_university education_level  \\\n",
       "0  Has relevent experience       no_enrollment        Graduate   \n",
       "1   No relevent experience       no_enrollment        Graduate   \n",
       "2   No relevent experience                 NaN        Graduate   \n",
       "3  Has relevent experience       no_enrollment         Masters   \n",
       "4  Has relevent experience    Part time course        Graduate   \n",
       "\n",
       "  major_discipline experience company_size    company_type last_new_job  \\\n",
       "0             STEM        >20          NaN             NaN            1   \n",
       "1             STEM         15        50-99         Pvt Ltd           >4   \n",
       "2  Business Degree         <1          NaN         Pvt Ltd        never   \n",
       "3             STEM        >20        50-99  Funded Startup            4   \n",
       "4             STEM         11          NaN             NaN            1   \n",
       "\n",
       "   training_hours  \n",
       "0              36  \n",
       "1              47  \n",
       "2              52  \n",
       "3               8  \n",
       "4              24  "
      ]
     },
     "execution_count": 4,
     "metadata": {},
     "output_type": "execute_result"
    }
   ],
   "source": [
    "#학습 데이터 확인\n",
    "train.head()"
   ]
  },
  {
   "cell_type": "code",
   "execution_count": 5,
   "id": "fd5fd0c7",
   "metadata": {
    "execution": {
     "iopub.execute_input": "2024-05-06T04:13:17.591206Z",
     "iopub.status.busy": "2024-05-06T04:13:17.590414Z",
     "iopub.status.idle": "2024-05-06T04:13:17.600523Z",
     "shell.execute_reply": "2024-05-06T04:13:17.599304Z"
    },
    "papermill": {
     "duration": 0.020476,
     "end_time": "2024-05-06T04:13:17.603307",
     "exception": false,
     "start_time": "2024-05-06T04:13:17.582831",
     "status": "completed"
    },
    "tags": []
   },
   "outputs": [],
   "source": [
    "#데이터 삭제\n",
    "train = train.drop(['index', 'enrollee_id', 'city'], axis=1)\n",
    "test = test.drop(['index', 'enrollee_id', 'city'], axis=1)"
   ]
  },
  {
   "cell_type": "code",
   "execution_count": 6,
   "id": "0b390516",
   "metadata": {
    "execution": {
     "iopub.execute_input": "2024-05-06T04:13:17.618627Z",
     "iopub.status.busy": "2024-05-06T04:13:17.617882Z",
     "iopub.status.idle": "2024-05-06T04:13:17.666110Z",
     "shell.execute_reply": "2024-05-06T04:13:17.665008Z"
    },
    "papermill": {
     "duration": 0.058798,
     "end_time": "2024-05-06T04:13:17.668812",
     "exception": false,
     "start_time": "2024-05-06T04:13:17.610014",
     "status": "completed"
    },
    "tags": []
   },
   "outputs": [
    {
     "name": "stdout",
     "output_type": "stream",
     "text": [
      "<class 'pandas.core.frame.DataFrame'>\n",
      "RangeIndex: 15326 entries, 0 to 15325\n",
      "Data columns (total 11 columns):\n",
      " #   Column                  Non-Null Count  Dtype  \n",
      "---  ------                  --------------  -----  \n",
      " 0   city_development_index  15326 non-null  float64\n",
      " 1   gender                  11752 non-null  object \n",
      " 2   relevent_experience     15326 non-null  object \n",
      " 3   enrolled_university     15009 non-null  object \n",
      " 4   education_level         14964 non-null  object \n",
      " 5   major_discipline        13068 non-null  object \n",
      " 6   experience              15276 non-null  object \n",
      " 7   company_size            10612 non-null  object \n",
      " 8   company_type            10445 non-null  object \n",
      " 9   last_new_job            14983 non-null  object \n",
      " 10  training_hours          15326 non-null  int64  \n",
      "dtypes: float64(1), int64(1), object(9)\n",
      "memory usage: 1.3+ MB\n",
      "<class 'pandas.core.frame.DataFrame'>\n",
      "RangeIndex: 3832 entries, 0 to 3831\n",
      "Data columns (total 11 columns):\n",
      " #   Column                  Non-Null Count  Dtype  \n",
      "---  ------                  --------------  -----  \n",
      " 0   city_development_index  3832 non-null   float64\n",
      " 1   gender                  2898 non-null   object \n",
      " 2   relevent_experience     3832 non-null   object \n",
      " 3   enrolled_university     3763 non-null   object \n",
      " 4   education_level         3734 non-null   object \n",
      " 5   major_discipline        3277 non-null   object \n",
      " 6   experience              3817 non-null   object \n",
      " 7   company_size            2608 non-null   object \n",
      " 8   company_type            2573 non-null   object \n",
      " 9   last_new_job            3752 non-null   object \n",
      " 10  training_hours          3832 non-null   int64  \n",
      "dtypes: float64(1), int64(1), object(9)\n",
      "memory usage: 329.4+ KB\n"
     ]
    }
   ],
   "source": [
    "#데이터타입 확인\n",
    "train.info()\n",
    "test.info()"
   ]
  },
  {
   "cell_type": "code",
   "execution_count": 7,
   "id": "5f57d7df",
   "metadata": {
    "execution": {
     "iopub.execute_input": "2024-05-06T04:13:17.683792Z",
     "iopub.status.busy": "2024-05-06T04:13:17.682847Z",
     "iopub.status.idle": "2024-05-06T04:13:17.689894Z",
     "shell.execute_reply": "2024-05-06T04:13:17.688817Z"
    },
    "papermill": {
     "duration": 0.016968,
     "end_time": "2024-05-06T04:13:17.692185",
     "exception": false,
     "start_time": "2024-05-06T04:13:17.675217",
     "status": "completed"
    },
    "tags": []
   },
   "outputs": [
    {
     "data": {
      "text/plain": [
       "Index(['city_development_index', 'gender', 'relevent_experience',\n",
       "       'enrolled_university', 'education_level', 'major_discipline',\n",
       "       'experience', 'company_size', 'company_type', 'last_new_job',\n",
       "       'training_hours'],\n",
       "      dtype='object')"
      ]
     },
     "execution_count": 7,
     "metadata": {},
     "output_type": "execute_result"
    }
   ],
   "source": [
    "#열 출력\n",
    "train.columns"
   ]
  },
  {
   "cell_type": "code",
   "execution_count": 8,
   "id": "a87a479c",
   "metadata": {
    "execution": {
     "iopub.execute_input": "2024-05-06T04:13:17.707046Z",
     "iopub.status.busy": "2024-05-06T04:13:17.706633Z",
     "iopub.status.idle": "2024-05-06T04:13:19.064898Z",
     "shell.execute_reply": "2024-05-06T04:13:19.063907Z"
    },
    "papermill": {
     "duration": 1.368704,
     "end_time": "2024-05-06T04:13:19.067471",
     "exception": false,
     "start_time": "2024-05-06T04:13:17.698767",
     "status": "completed"
    },
    "tags": []
   },
   "outputs": [],
   "source": [
    "#데이터 실수화\n",
    "from sklearn.preprocessing import LabelEncoder\n",
    "\n",
    "x_data = pd.concat([train, test], axis=0)\n",
    "col = ['gender', 'relevent_experience',\n",
    "       'enrolled_university', 'education_level', 'major_discipline',\n",
    "       'experience', 'company_size', 'company_type', 'last_new_job']\n",
    "\n",
    "for i in col:\n",
    "    le = LabelEncoder()\n",
    "    le.fit(train[i])\n",
    "    train[i] = le.transform(train[i])\n",
    "    test[i] = le.transform(test[i])"
   ]
  },
  {
   "cell_type": "code",
   "execution_count": 9,
   "id": "6fb7b759",
   "metadata": {
    "execution": {
     "iopub.execute_input": "2024-05-06T04:13:19.083141Z",
     "iopub.status.busy": "2024-05-06T04:13:19.082141Z",
     "iopub.status.idle": "2024-05-06T04:13:19.102134Z",
     "shell.execute_reply": "2024-05-06T04:13:19.100639Z"
    },
    "papermill": {
     "duration": 0.032537,
     "end_time": "2024-05-06T04:13:19.106826",
     "exception": false,
     "start_time": "2024-05-06T04:13:19.074289",
     "status": "completed"
    },
    "tags": []
   },
   "outputs": [
    {
     "name": "stdout",
     "output_type": "stream",
     "text": [
      "<class 'pandas.core.frame.DataFrame'>\n",
      "RangeIndex: 15326 entries, 0 to 15325\n",
      "Data columns (total 11 columns):\n",
      " #   Column                  Non-Null Count  Dtype  \n",
      "---  ------                  --------------  -----  \n",
      " 0   city_development_index  15326 non-null  float64\n",
      " 1   gender                  15326 non-null  int64  \n",
      " 2   relevent_experience     15326 non-null  int64  \n",
      " 3   enrolled_university     15326 non-null  int64  \n",
      " 4   education_level         15326 non-null  int64  \n",
      " 5   major_discipline        15326 non-null  int64  \n",
      " 6   experience              15326 non-null  int64  \n",
      " 7   company_size            15326 non-null  int64  \n",
      " 8   company_type            15326 non-null  int64  \n",
      " 9   last_new_job            15326 non-null  int64  \n",
      " 10  training_hours          15326 non-null  int64  \n",
      "dtypes: float64(1), int64(10)\n",
      "memory usage: 1.3 MB\n",
      "<class 'pandas.core.frame.DataFrame'>\n",
      "RangeIndex: 3832 entries, 0 to 3831\n",
      "Data columns (total 11 columns):\n",
      " #   Column                  Non-Null Count  Dtype  \n",
      "---  ------                  --------------  -----  \n",
      " 0   city_development_index  3832 non-null   float64\n",
      " 1   gender                  3832 non-null   int64  \n",
      " 2   relevent_experience     3832 non-null   int64  \n",
      " 3   enrolled_university     3832 non-null   int64  \n",
      " 4   education_level         3832 non-null   int64  \n",
      " 5   major_discipline        3832 non-null   int64  \n",
      " 6   experience              3832 non-null   int64  \n",
      " 7   company_size            3832 non-null   int64  \n",
      " 8   company_type            3832 non-null   int64  \n",
      " 9   last_new_job            3832 non-null   int64  \n",
      " 10  training_hours          3832 non-null   int64  \n",
      "dtypes: float64(1), int64(10)\n",
      "memory usage: 329.4 KB\n"
     ]
    }
   ],
   "source": [
    "train.info()\n",
    "test.info()"
   ]
  },
  {
   "cell_type": "code",
   "execution_count": 10,
   "id": "787b6699",
   "metadata": {
    "execution": {
     "iopub.execute_input": "2024-05-06T04:13:19.122543Z",
     "iopub.status.busy": "2024-05-06T04:13:19.122108Z",
     "iopub.status.idle": "2024-05-06T04:13:19.405581Z",
     "shell.execute_reply": "2024-05-06T04:13:19.403823Z"
    },
    "papermill": {
     "duration": 0.295939,
     "end_time": "2024-05-06T04:13:19.409840",
     "exception": false,
     "start_time": "2024-05-06T04:13:19.113901",
     "status": "completed"
    },
    "tags": []
   },
   "outputs": [
    {
     "data": {
      "text/html": [
       "<style>#sk-container-id-1 {color: black;background-color: white;}#sk-container-id-1 pre{padding: 0;}#sk-container-id-1 div.sk-toggleable {background-color: white;}#sk-container-id-1 label.sk-toggleable__label {cursor: pointer;display: block;width: 100%;margin-bottom: 0;padding: 0.3em;box-sizing: border-box;text-align: center;}#sk-container-id-1 label.sk-toggleable__label-arrow:before {content: \"▸\";float: left;margin-right: 0.25em;color: #696969;}#sk-container-id-1 label.sk-toggleable__label-arrow:hover:before {color: black;}#sk-container-id-1 div.sk-estimator:hover label.sk-toggleable__label-arrow:before {color: black;}#sk-container-id-1 div.sk-toggleable__content {max-height: 0;max-width: 0;overflow: hidden;text-align: left;background-color: #f0f8ff;}#sk-container-id-1 div.sk-toggleable__content pre {margin: 0.2em;color: black;border-radius: 0.25em;background-color: #f0f8ff;}#sk-container-id-1 input.sk-toggleable__control:checked~div.sk-toggleable__content {max-height: 200px;max-width: 100%;overflow: auto;}#sk-container-id-1 input.sk-toggleable__control:checked~label.sk-toggleable__label-arrow:before {content: \"▾\";}#sk-container-id-1 div.sk-estimator input.sk-toggleable__control:checked~label.sk-toggleable__label {background-color: #d4ebff;}#sk-container-id-1 div.sk-label input.sk-toggleable__control:checked~label.sk-toggleable__label {background-color: #d4ebff;}#sk-container-id-1 input.sk-hidden--visually {border: 0;clip: rect(1px 1px 1px 1px);clip: rect(1px, 1px, 1px, 1px);height: 1px;margin: -1px;overflow: hidden;padding: 0;position: absolute;width: 1px;}#sk-container-id-1 div.sk-estimator {font-family: monospace;background-color: #f0f8ff;border: 1px dotted black;border-radius: 0.25em;box-sizing: border-box;margin-bottom: 0.5em;}#sk-container-id-1 div.sk-estimator:hover {background-color: #d4ebff;}#sk-container-id-1 div.sk-parallel-item::after {content: \"\";width: 100%;border-bottom: 1px solid gray;flex-grow: 1;}#sk-container-id-1 div.sk-label:hover label.sk-toggleable__label {background-color: #d4ebff;}#sk-container-id-1 div.sk-serial::before {content: \"\";position: absolute;border-left: 1px solid gray;box-sizing: border-box;top: 0;bottom: 0;left: 50%;z-index: 0;}#sk-container-id-1 div.sk-serial {display: flex;flex-direction: column;align-items: center;background-color: white;padding-right: 0.2em;padding-left: 0.2em;position: relative;}#sk-container-id-1 div.sk-item {position: relative;z-index: 1;}#sk-container-id-1 div.sk-parallel {display: flex;align-items: stretch;justify-content: center;background-color: white;position: relative;}#sk-container-id-1 div.sk-item::before, #sk-container-id-1 div.sk-parallel-item::before {content: \"\";position: absolute;border-left: 1px solid gray;box-sizing: border-box;top: 0;bottom: 0;left: 50%;z-index: -1;}#sk-container-id-1 div.sk-parallel-item {display: flex;flex-direction: column;z-index: 1;position: relative;background-color: white;}#sk-container-id-1 div.sk-parallel-item:first-child::after {align-self: flex-end;width: 50%;}#sk-container-id-1 div.sk-parallel-item:last-child::after {align-self: flex-start;width: 50%;}#sk-container-id-1 div.sk-parallel-item:only-child::after {width: 0;}#sk-container-id-1 div.sk-dashed-wrapped {border: 1px dashed gray;margin: 0 0.4em 0.5em 0.4em;box-sizing: border-box;padding-bottom: 0.4em;background-color: white;}#sk-container-id-1 div.sk-label label {font-family: monospace;font-weight: bold;display: inline-block;line-height: 1.2em;}#sk-container-id-1 div.sk-label-container {text-align: center;}#sk-container-id-1 div.sk-container {/* jupyter's `normalize.less` sets `[hidden] { display: none; }` but bootstrap.min.css set `[hidden] { display: none !important; }` so we also need the `!important` here to be able to override the default hidden behavior on the sphinx rendered scikit-learn.org. See: https://github.com/scikit-learn/scikit-learn/issues/21755 */display: inline-block !important;position: relative;}#sk-container-id-1 div.sk-text-repr-fallback {display: none;}</style><div id=\"sk-container-id-1\" class=\"sk-top-container\"><div class=\"sk-text-repr-fallback\"><pre>QuadraticDiscriminantAnalysis()</pre><b>In a Jupyter environment, please rerun this cell to show the HTML representation or trust the notebook. <br />On GitHub, the HTML representation is unable to render, please try loading this page with nbviewer.org.</b></div><div class=\"sk-container\" hidden><div class=\"sk-item\"><div class=\"sk-estimator sk-toggleable\"><input class=\"sk-toggleable__control sk-hidden--visually\" id=\"sk-estimator-id-1\" type=\"checkbox\" checked><label for=\"sk-estimator-id-1\" class=\"sk-toggleable__label sk-toggleable__label-arrow\">QuadraticDiscriminantAnalysis</label><div class=\"sk-toggleable__content\"><pre>QuadraticDiscriminantAnalysis()</pre></div></div></div></div></div>"
      ],
      "text/plain": [
       "QuadraticDiscriminantAnalysis()"
      ]
     },
     "execution_count": 10,
     "metadata": {},
     "output_type": "execute_result"
    }
   ],
   "source": [
    "#qda\n",
    "from sklearn.discriminant_analysis import QuadraticDiscriminantAnalysis\n",
    "qda = QuadraticDiscriminantAnalysis()\n",
    "\n",
    "qda.fit(train, y)"
   ]
  },
  {
   "cell_type": "code",
   "execution_count": 11,
   "id": "e8817728",
   "metadata": {
    "execution": {
     "iopub.execute_input": "2024-05-06T04:13:19.441831Z",
     "iopub.status.busy": "2024-05-06T04:13:19.441067Z",
     "iopub.status.idle": "2024-05-06T04:13:19.471519Z",
     "shell.execute_reply": "2024-05-06T04:13:19.470378Z"
    },
    "papermill": {
     "duration": 0.050713,
     "end_time": "2024-05-06T04:13:19.475400",
     "exception": false,
     "start_time": "2024-05-06T04:13:19.424687",
     "status": "completed"
    },
    "tags": []
   },
   "outputs": [
    {
     "name": "stdout",
     "output_type": "stream",
     "text": [
      "0.7696724520422811\n"
     ]
    }
   ],
   "source": [
    "#train 예측 및 정확도 출력\n",
    "train_pred = qda.predict(train)\n",
    "\n",
    "from sklearn.metrics import accuracy_score\n",
    "print(accuracy_score(train_pred, y))"
   ]
  },
  {
   "cell_type": "code",
   "execution_count": 12,
   "id": "61dece35",
   "metadata": {
    "execution": {
     "iopub.execute_input": "2024-05-06T04:13:19.508047Z",
     "iopub.status.busy": "2024-05-06T04:13:19.507303Z",
     "iopub.status.idle": "2024-05-06T04:13:19.522924Z",
     "shell.execute_reply": "2024-05-06T04:13:19.521385Z"
    },
    "papermill": {
     "duration": 0.036552,
     "end_time": "2024-05-06T04:13:19.527028",
     "exception": false,
     "start_time": "2024-05-06T04:13:19.490476",
     "status": "completed"
    },
    "tags": []
   },
   "outputs": [],
   "source": [
    "#test 데이터 예측\n",
    "test_pred = qda.predict(test)"
   ]
  },
  {
   "cell_type": "code",
   "execution_count": 13,
   "id": "bf2aa4f4",
   "metadata": {
    "execution": {
     "iopub.execute_input": "2024-05-06T04:13:19.561944Z",
     "iopub.status.busy": "2024-05-06T04:13:19.561247Z",
     "iopub.status.idle": "2024-05-06T04:13:19.588957Z",
     "shell.execute_reply": "2024-05-06T04:13:19.587364Z"
    },
    "papermill": {
     "duration": 0.049456,
     "end_time": "2024-05-06T04:13:19.594072",
     "exception": false,
     "start_time": "2024-05-06T04:13:19.544616",
     "status": "completed"
    },
    "tags": []
   },
   "outputs": [],
   "source": [
    "#submit 저장\n",
    "submit['target'] = test_pred.astype('int64')\n",
    "submit.to_csv('submit.csv', index=False)"
   ]
  },
  {
   "cell_type": "code",
   "execution_count": 14,
   "id": "3172146e",
   "metadata": {
    "execution": {
     "iopub.execute_input": "2024-05-06T04:13:19.628897Z",
     "iopub.status.busy": "2024-05-06T04:13:19.628194Z",
     "iopub.status.idle": "2024-05-06T04:13:19.645534Z",
     "shell.execute_reply": "2024-05-06T04:13:19.644154Z"
    },
    "papermill": {
     "duration": 0.036498,
     "end_time": "2024-05-06T04:13:19.648163",
     "exception": false,
     "start_time": "2024-05-06T04:13:19.611665",
     "status": "completed"
    },
    "tags": []
   },
   "outputs": [
    {
     "name": "stdout",
     "output_type": "stream",
     "text": [
      "<class 'pandas.core.frame.DataFrame'>\n",
      "RangeIndex: 3832 entries, 0 to 3831\n",
      "Data columns (total 2 columns):\n",
      " #   Column  Non-Null Count  Dtype\n",
      "---  ------  --------------  -----\n",
      " 0   index   3832 non-null   int64\n",
      " 1   target  3832 non-null   int64\n",
      "dtypes: int64(2)\n",
      "memory usage: 60.0 KB\n"
     ]
    }
   ],
   "source": [
    "submit.info()"
   ]
  },
  {
   "cell_type": "code",
   "execution_count": null,
   "id": "7bd51289",
   "metadata": {
    "papermill": {
     "duration": 0.007635,
     "end_time": "2024-05-06T04:13:19.663195",
     "exception": false,
     "start_time": "2024-05-06T04:13:19.655560",
     "status": "completed"
    },
    "tags": []
   },
   "outputs": [],
   "source": []
  }
 ],
 "metadata": {
  "kaggle": {
   "accelerator": "none",
   "dataSources": [
    {
     "databundleVersionId": 8388098,
     "sourceId": 77118,
     "sourceType": "competition"
    }
   ],
   "dockerImageVersionId": 30698,
   "isGpuEnabled": false,
   "isInternetEnabled": true,
   "language": "python",
   "sourceType": "notebook"
  },
  "kernelspec": {
   "display_name": "Python 3",
   "language": "python",
   "name": "python3"
  },
  "language_info": {
   "codemirror_mode": {
    "name": "ipython",
    "version": 3
   },
   "file_extension": ".py",
   "mimetype": "text/x-python",
   "name": "python",
   "nbconvert_exporter": "python",
   "pygments_lexer": "ipython3",
   "version": "3.10.13"
  },
  "papermill": {
   "default_parameters": {},
   "duration": 7.1386,
   "end_time": "2024-05-06T04:13:20.292474",
   "environment_variables": {},
   "exception": null,
   "input_path": "__notebook__.ipynb",
   "output_path": "__notebook__.ipynb",
   "parameters": {},
   "start_time": "2024-05-06T04:13:13.153874",
   "version": "2.5.0"
  }
 },
 "nbformat": 4,
 "nbformat_minor": 5
}
