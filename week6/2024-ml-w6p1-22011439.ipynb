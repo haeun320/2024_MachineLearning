{
 "cells": [
  {
   "cell_type": "code",
   "execution_count": 1,
   "id": "88a16bfe",
   "metadata": {
    "_cell_guid": "b1076dfc-b9ad-4769-8c92-a6c4dae69d19",
    "_uuid": "8f2839f25d086af736a60e9eeb907d3b93b6e0e5",
    "execution": {
     "iopub.execute_input": "2024-04-11T03:51:14.382948Z",
     "iopub.status.busy": "2024-04-11T03:51:14.382199Z",
     "iopub.status.idle": "2024-04-11T03:51:15.311326Z",
     "shell.execute_reply": "2024-04-11T03:51:15.310002Z"
    },
    "papermill": {
     "duration": 0.938378,
     "end_time": "2024-04-11T03:51:15.313712",
     "exception": false,
     "start_time": "2024-04-11T03:51:14.375334",
     "status": "completed"
    },
    "tags": []
   },
   "outputs": [
    {
     "name": "stdout",
     "output_type": "stream",
     "text": [
      "/kaggle/input/2024-ml-w6p1/submit.csv\n",
      "/kaggle/input/2024-ml-w6p1/train.csv\n",
      "/kaggle/input/2024-ml-w6p1/test.csv\n",
      "/kaggle/input/2024-ml-w6p1/train_label.csv\n"
     ]
    }
   ],
   "source": [
    "# This Python 3 environment comes with many helpful analytics libraries installed\n",
    "# It is defined by the kaggle/python Docker image: https://github.com/kaggle/docker-python\n",
    "# For example, here's several helpful packages to load\n",
    "\n",
    "import numpy as np # linear algebra\n",
    "import pandas as pd # data processing, CSV file I/O (e.g. pd.read_csv)\n",
    "\n",
    "# Input data files are available in the read-only \"../input/\" directory\n",
    "# For example, running this (by clicking run or pressing Shift+Enter) will list all files under the input directory\n",
    "\n",
    "import os\n",
    "for dirname, _, filenames in os.walk('/kaggle/input'):\n",
    "    for filename in filenames:\n",
    "        print(os.path.join(dirname, filename))\n",
    "\n",
    "# You can write up to 20GB to the current directory (/kaggle/working/) that gets preserved as output when you create a version using \"Save & Run All\" \n",
    "# You can also write temporary files to /kaggle/temp/, but they won't be saved outside of the current session"
   ]
  },
  {
   "cell_type": "code",
   "execution_count": 2,
   "id": "8a4e4868",
   "metadata": {
    "execution": {
     "iopub.execute_input": "2024-04-11T03:51:15.324466Z",
     "iopub.status.busy": "2024-04-11T03:51:15.323990Z",
     "iopub.status.idle": "2024-04-11T03:51:15.329361Z",
     "shell.execute_reply": "2024-04-11T03:51:15.328120Z"
    },
    "papermill": {
     "duration": 0.012708,
     "end_time": "2024-04-11T03:51:15.331405",
     "exception": false,
     "start_time": "2024-04-11T03:51:15.318697",
     "status": "completed"
    },
    "tags": []
   },
   "outputs": [],
   "source": [
    "import random\n",
    "import os\n",
    "\n",
    "seed = 42\n",
    "random.seed(seed)\n",
    "np.random.seed(seed)\n",
    "os.environ[\"PYTHONHASHSEED\"] = str(seed)"
   ]
  },
  {
   "cell_type": "code",
   "execution_count": 3,
   "id": "8339249c",
   "metadata": {
    "execution": {
     "iopub.execute_input": "2024-04-11T03:51:15.341391Z",
     "iopub.status.busy": "2024-04-11T03:51:15.341018Z",
     "iopub.status.idle": "2024-04-11T03:51:20.188231Z",
     "shell.execute_reply": "2024-04-11T03:51:20.187177Z"
    },
    "papermill": {
     "duration": 4.855176,
     "end_time": "2024-04-11T03:51:20.190857",
     "exception": false,
     "start_time": "2024-04-11T03:51:15.335681",
     "status": "completed"
    },
    "tags": []
   },
   "outputs": [],
   "source": [
    "#데이터셋 로드\n",
    "train_label = pd.read_csv('/kaggle/input/2024-ml-w6p1/train_label.csv')\n",
    "train = pd.read_csv('/kaggle/input/2024-ml-w6p1/train.csv')\n",
    "test = pd.read_csv('/kaggle/input/2024-ml-w6p1/test.csv')\n",
    "submit = pd.read_csv('/kaggle/input/2024-ml-w6p1/submit.csv')"
   ]
  },
  {
   "cell_type": "code",
   "execution_count": 4,
   "id": "3e731cde",
   "metadata": {
    "execution": {
     "iopub.execute_input": "2024-04-11T03:51:20.202692Z",
     "iopub.status.busy": "2024-04-11T03:51:20.201917Z",
     "iopub.status.idle": "2024-04-11T03:51:20.218281Z",
     "shell.execute_reply": "2024-04-11T03:51:20.217163Z"
    },
    "papermill": {
     "duration": 0.024266,
     "end_time": "2024-04-11T03:51:20.220755",
     "exception": false,
     "start_time": "2024-04-11T03:51:20.196489",
     "status": "completed"
    },
    "tags": []
   },
   "outputs": [
    {
     "data": {
      "text/html": [
       "<div>\n",
       "<style scoped>\n",
       "    .dataframe tbody tr th:only-of-type {\n",
       "        vertical-align: middle;\n",
       "    }\n",
       "\n",
       "    .dataframe tbody tr th {\n",
       "        vertical-align: top;\n",
       "    }\n",
       "\n",
       "    .dataframe thead th {\n",
       "        text-align: right;\n",
       "    }\n",
       "</style>\n",
       "<table border=\"1\" class=\"dataframe\">\n",
       "  <thead>\n",
       "    <tr style=\"text-align: right;\">\n",
       "      <th></th>\n",
       "      <th>id</th>\n",
       "      <th>label</th>\n",
       "    </tr>\n",
       "  </thead>\n",
       "  <tbody>\n",
       "    <tr>\n",
       "      <th>0</th>\n",
       "      <td>0</td>\n",
       "      <td>136</td>\n",
       "    </tr>\n",
       "    <tr>\n",
       "      <th>1</th>\n",
       "      <td>1</td>\n",
       "      <td>90</td>\n",
       "    </tr>\n",
       "    <tr>\n",
       "      <th>2</th>\n",
       "      <td>2</td>\n",
       "      <td>112</td>\n",
       "    </tr>\n",
       "    <tr>\n",
       "      <th>3</th>\n",
       "      <td>3</td>\n",
       "      <td>165</td>\n",
       "    </tr>\n",
       "    <tr>\n",
       "      <th>4</th>\n",
       "      <td>4</td>\n",
       "      <td>73</td>\n",
       "    </tr>\n",
       "  </tbody>\n",
       "</table>\n",
       "</div>"
      ],
      "text/plain": [
       "   id  label\n",
       "0   0    136\n",
       "1   1     90\n",
       "2   2    112\n",
       "3   3    165\n",
       "4   4     73"
      ]
     },
     "execution_count": 4,
     "metadata": {},
     "output_type": "execute_result"
    }
   ],
   "source": [
    "#라벨 확인\n",
    "train_label.head()"
   ]
  },
  {
   "cell_type": "code",
   "execution_count": 5,
   "id": "84b5c3ff",
   "metadata": {
    "execution": {
     "iopub.execute_input": "2024-04-11T03:51:20.232891Z",
     "iopub.status.busy": "2024-04-11T03:51:20.232543Z",
     "iopub.status.idle": "2024-04-11T03:51:20.240043Z",
     "shell.execute_reply": "2024-04-11T03:51:20.239251Z"
    },
    "papermill": {
     "duration": 0.016602,
     "end_time": "2024-04-11T03:51:20.241899",
     "exception": false,
     "start_time": "2024-04-11T03:51:20.225297",
     "status": "completed"
    },
    "tags": []
   },
   "outputs": [],
   "source": [
    "#label 추출\n",
    "label = train_label['label'].values"
   ]
  },
  {
   "cell_type": "code",
   "execution_count": 6,
   "id": "27981873",
   "metadata": {
    "execution": {
     "iopub.execute_input": "2024-04-11T03:51:20.252997Z",
     "iopub.status.busy": "2024-04-11T03:51:20.252038Z",
     "iopub.status.idle": "2024-04-11T03:51:21.720040Z",
     "shell.execute_reply": "2024-04-11T03:51:21.718944Z"
    },
    "papermill": {
     "duration": 1.476187,
     "end_time": "2024-04-11T03:51:21.722707",
     "exception": false,
     "start_time": "2024-04-11T03:51:20.246520",
     "status": "completed"
    },
    "tags": []
   },
   "outputs": [],
   "source": [
    "#데이터 분류\n",
    "from sklearn.model_selection import train_test_split \n",
    "x_train,x_test,y_train,y_test=train_test_split(train,label, test_size=0.3, random_state=seed, stratify=label)"
   ]
  },
  {
   "cell_type": "code",
   "execution_count": 7,
   "id": "4d724995",
   "metadata": {
    "execution": {
     "iopub.execute_input": "2024-04-11T03:51:21.733408Z",
     "iopub.status.busy": "2024-04-11T03:51:21.733009Z",
     "iopub.status.idle": "2024-04-11T03:51:22.938980Z",
     "shell.execute_reply": "2024-04-11T03:51:22.937758Z"
    },
    "papermill": {
     "duration": 1.215512,
     "end_time": "2024-04-11T03:51:22.942765",
     "exception": false,
     "start_time": "2024-04-11T03:51:21.727253",
     "status": "completed"
    },
    "tags": []
   },
   "outputs": [],
   "source": [
    "#LDA 학습\n",
    "from sklearn.discriminant_analysis import LinearDiscriminantAnalysis\n",
    "lda = LinearDiscriminantAnalysis()\n",
    "x_lda = lda.fit_transform(x_train, y_train) \n",
    "\n",
    "#예측\n",
    "y_train_pred = lda.predict(x_train)\n",
    "y_test_pred = lda.predict(x_test)"
   ]
  },
  {
   "cell_type": "code",
   "execution_count": 8,
   "id": "a53a26e1",
   "metadata": {
    "execution": {
     "iopub.execute_input": "2024-04-11T03:51:22.961971Z",
     "iopub.status.busy": "2024-04-11T03:51:22.961350Z",
     "iopub.status.idle": "2024-04-11T03:51:23.712800Z",
     "shell.execute_reply": "2024-04-11T03:51:23.711712Z"
    },
    "papermill": {
     "duration": 0.763503,
     "end_time": "2024-04-11T03:51:23.714952",
     "exception": false,
     "start_time": "2024-04-11T03:51:22.951449",
     "status": "completed"
    },
    "tags": []
   },
   "outputs": [
    {
     "data": {
      "image/png": "[encoded data removed]",
      "text/plain": [
       "<Figure size 640x480 with 1 Axes>"
      ]
     },
     "metadata": {},
     "output_type": "display_data"
    }
   ],
   "source": [
    "#분포 그리기\n",
    "from matplotlib import pyplot as plt\n",
    "plt.xlabel('LD1')\n",
    "plt.ylabel('LD2')\n",
    "plt.scatter(\n",
    "    x_lda[:,0],\n",
    "    x_lda[:,1],\n",
    "    c=y_train,\n",
    "    cmap='rainbow',\n",
    "    alpha=0.7,\n",
    "    edgecolors='b'\n",
    ")\n",
    "plt.show()"
   ]
  },
  {
   "cell_type": "code",
   "execution_count": 9,
   "id": "82a0015d",
   "metadata": {
    "execution": {
     "iopub.execute_input": "2024-04-11T03:51:23.726815Z",
     "iopub.status.busy": "2024-04-11T03:51:23.725892Z",
     "iopub.status.idle": "2024-04-11T03:51:23.740702Z",
     "shell.execute_reply": "2024-04-11T03:51:23.739291Z"
    },
    "papermill": {
     "duration": 0.023243,
     "end_time": "2024-04-11T03:51:23.743057",
     "exception": false,
     "start_time": "2024-04-11T03:51:23.719814",
     "status": "completed"
    },
    "tags": []
   },
   "outputs": [
    {
     "name": "stdout",
     "output_type": "stream",
     "text": [
      "0.6889875574371418\n",
      "0.5892556010599855\n",
      "[[ 5  0  0 ...  0  0  0]\n",
      " [ 0  8  0 ...  0  0  0]\n",
      " [ 0  0 10 ...  0  0  0]\n",
      " ...\n",
      " [ 0  0  0 ...  0  0  0]\n",
      " [ 0  0  0 ...  0  0  0]\n",
      " [ 0  0  0 ...  0  0  0]]\n"
     ]
    }
   ],
   "source": [
    "#분류 성능\n",
    "from sklearn.metrics import accuracy_score\n",
    "print(accuracy_score(y_train, y_train_pred))\n",
    "print(accuracy_score(y_test, y_test_pred))\n",
    "\n",
    "#분류 결과\n",
    "from sklearn.metrics import confusion_matrix\n",
    "print(confusion_matrix(y_test, y_test_pred))"
   ]
  },
  {
   "cell_type": "code",
   "execution_count": 10,
   "id": "76213666",
   "metadata": {
    "execution": {
     "iopub.execute_input": "2024-04-11T03:51:23.754951Z",
     "iopub.status.busy": "2024-04-11T03:51:23.754569Z",
     "iopub.status.idle": "2024-04-11T03:51:39.080551Z",
     "shell.execute_reply": "2024-04-11T03:51:39.079308Z"
    },
    "papermill": {
     "duration": 15.335623,
     "end_time": "2024-04-11T03:51:39.083811",
     "exception": false,
     "start_time": "2024-04-11T03:51:23.748188",
     "status": "completed"
    },
    "tags": []
   },
   "outputs": [
    {
     "name": "stderr",
     "output_type": "stream",
     "text": [
      "/opt/conda/lib/python3.10/site-packages/sklearn/discriminant_analysis.py:926: UserWarning: Variables are collinear\n",
      "  warnings.warn(\"Variables are collinear\")\n"
     ]
    }
   ],
   "source": [
    "#QDA 학습\n",
    "from sklearn.discriminant_analysis import QuadraticDiscriminantAnalysis\n",
    "qda=QuadraticDiscriminantAnalysis(store_covariance=True)\n",
    "\n",
    "qda.fit(x_train, y_train) # QDA 적합\n",
    "y_train_pred=qda.predict(x_train)\n",
    "y_test_pred=qda.predict(x_test)"
   ]
  },
  {
   "cell_type": "code",
   "execution_count": 11,
   "id": "b42d6ec4",
   "metadata": {
    "execution": {
     "iopub.execute_input": "2024-04-11T03:51:39.103181Z",
     "iopub.status.busy": "2024-04-11T03:51:39.102675Z",
     "iopub.status.idle": "2024-04-11T03:51:39.708340Z",
     "shell.execute_reply": "2024-04-11T03:51:39.706969Z"
    },
    "papermill": {
     "duration": 0.618451,
     "end_time": "2024-04-11T03:51:39.710717",
     "exception": false,
     "start_time": "2024-04-11T03:51:39.092266",
     "status": "completed"
    },
    "tags": []
   },
   "outputs": [
    {
     "data": {
      "image/png": "[encoded data removed]",
      "text/plain": [
       "<Figure size 640x480 with 1 Axes>"
      ]
     },
     "metadata": {},
     "output_type": "display_data"
    }
   ],
   "source": [
    "from matplotlib import pyplot as plt\n",
    "plt.xlabel('LD1')\n",
    "plt.ylabel('LD2')\n",
    "plt.scatter(\n",
    "    x_lda[:,0],\n",
    "    x_lda[:,1],\n",
    "    c=y_train,\n",
    "    cmap='rainbow',\n",
    "    alpha=0.7,\n",
    "    edgecolors='b'\n",
    ")\n",
    "plt.show()"
   ]
  },
  {
   "cell_type": "code",
   "execution_count": 12,
   "id": "73635c2d",
   "metadata": {
    "execution": {
     "iopub.execute_input": "2024-04-11T03:51:39.724059Z",
     "iopub.status.busy": "2024-04-11T03:51:39.723689Z",
     "iopub.status.idle": "2024-04-11T03:51:39.737523Z",
     "shell.execute_reply": "2024-04-11T03:51:39.736260Z"
    },
    "papermill": {
     "duration": 0.023337,
     "end_time": "2024-04-11T03:51:39.740047",
     "exception": false,
     "start_time": "2024-04-11T03:51:39.716710",
     "status": "completed"
    },
    "tags": []
   },
   "outputs": [
    {
     "name": "stdout",
     "output_type": "stream",
     "text": [
      "0.9991739377355568\n",
      "0.3312454830161407\n",
      "[[0 0 0 ... 0 0 0]\n",
      " [0 0 0 ... 0 0 0]\n",
      " [0 0 0 ... 0 0 0]\n",
      " ...\n",
      " [0 0 0 ... 0 0 0]\n",
      " [0 0 0 ... 0 0 0]\n",
      " [0 0 0 ... 0 0 0]]\n"
     ]
    }
   ],
   "source": [
    "#분류 성능\n",
    "from sklearn.metrics import accuracy_score\n",
    "print(accuracy_score(y_train, y_train_pred))\n",
    "print(accuracy_score(y_test, y_test_pred))\n",
    "\n",
    "#분류 결과\n",
    "from sklearn.metrics import confusion_matrix\n",
    "print(confusion_matrix(y_test, y_test_pred))"
   ]
  },
  {
   "cell_type": "code",
   "execution_count": 13,
   "id": "cc7a727f",
   "metadata": {
    "execution": {
     "iopub.execute_input": "2024-04-11T03:51:39.753524Z",
     "iopub.status.busy": "2024-04-11T03:51:39.752649Z",
     "iopub.status.idle": "2024-04-11T03:51:40.952156Z",
     "shell.execute_reply": "2024-04-11T03:51:40.950937Z"
    },
    "papermill": {
     "duration": 1.209856,
     "end_time": "2024-04-11T03:51:40.955623",
     "exception": false,
     "start_time": "2024-04-11T03:51:39.745767",
     "status": "completed"
    },
    "tags": []
   },
   "outputs": [],
   "source": [
    "#전체 테스트 데이터에 대해 학습\n",
    "lda.fit(train, label)\n",
    "test_pred = lda.predict(test) #예측"
   ]
  },
  {
   "cell_type": "code",
   "execution_count": 14,
   "id": "a1312b29",
   "metadata": {
    "execution": {
     "iopub.execute_input": "2024-04-11T03:51:40.979545Z",
     "iopub.status.busy": "2024-04-11T03:51:40.978084Z",
     "iopub.status.idle": "2024-04-11T03:51:41.026476Z",
     "shell.execute_reply": "2024-04-11T03:51:41.025237Z"
    },
    "papermill": {
     "duration": 0.065428,
     "end_time": "2024-04-11T03:51:41.032143",
     "exception": false,
     "start_time": "2024-04-11T03:51:40.966715",
     "status": "completed"
    },
    "tags": []
   },
   "outputs": [],
   "source": [
    "#제출\n",
    "submit['label'] = test_pred\n",
    "submit.to_csv('submit.csv', index=False)"
   ]
  },
  {
   "cell_type": "code",
   "execution_count": null,
   "id": "82a1950f",
   "metadata": {
    "papermill": {
     "duration": 0.008985,
     "end_time": "2024-04-11T03:51:41.052342",
     "exception": false,
     "start_time": "2024-04-11T03:51:41.043357",
     "status": "completed"
    },
    "tags": []
   },
   "outputs": [],
   "source": []
  }
 ],
 "metadata": {
  "kaggle": {
   "accelerator": "none",
   "dataSources": [
    {
     "databundleVersionId": 8043872,
     "sourceId": 73135,
     "sourceType": "competition"
    }
   ],
   "dockerImageVersionId": 30684,
   "isGpuEnabled": false,
   "isInternetEnabled": true,
   "language": "python",
   "sourceType": "notebook"
  },
  "kernelspec": {
   "display_name": "Python 3",
   "language": "python",
   "name": "python3"
  },
  "language_info": {
   "codemirror_mode": {
    "name": "ipython",
    "version": 3
   },
   "file_extension": ".py",
   "mimetype": "text/x-python",
   "name": "python",
   "nbconvert_exporter": "python",
   "pygments_lexer": "ipython3",
   "version": "3.10.13"
  },
  "papermill": {
   "default_parameters": {},
   "duration": 30.136567,
   "end_time": "2024-04-11T03:51:41.687154",
   "environment_variables": {},
   "exception": null,
   "input_path": "__notebook__.ipynb",
   "output_path": "__notebook__.ipynb",
   "parameters": {},
   "start_time": "2024-04-11T03:51:11.550587",
   "version": "2.5.0"
  }
 },
 "nbformat": 4,
 "nbformat_minor": 5
}
