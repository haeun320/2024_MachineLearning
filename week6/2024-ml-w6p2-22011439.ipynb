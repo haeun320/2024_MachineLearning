{
 "cells": [
  {
   "cell_type": "code",
   "execution_count": 1,
   "id": "ba0d5817",
   "metadata": {
    "_cell_guid": "b1076dfc-b9ad-4769-8c92-a6c4dae69d19",
    "_uuid": "8f2839f25d086af736a60e9eeb907d3b93b6e0e5",
    "execution": {
     "iopub.execute_input": "2024-04-11T04:16:03.434423Z",
     "iopub.status.busy": "2024-04-11T04:16:03.433981Z",
     "iopub.status.idle": "2024-04-11T04:16:04.433343Z",
     "shell.execute_reply": "2024-04-11T04:16:04.432134Z"
    },
    "papermill": {
     "duration": 1.009619,
     "end_time": "2024-04-11T04:16:04.435885",
     "exception": false,
     "start_time": "2024-04-11T04:16:03.426266",
     "status": "completed"
    },
    "tags": []
   },
   "outputs": [
    {
     "name": "stdout",
     "output_type": "stream",
     "text": [
      "/kaggle/input/2024-ml-w6p2/submit.csv\n",
      "/kaggle/input/2024-ml-w6p2/train.csv\n",
      "/kaggle/input/2024-ml-w6p2/test.csv\n"
     ]
    }
   ],
   "source": [
    "# This Python 3 environment comes with many helpful analytics libraries installed\n",
    "# It is defined by the kaggle/python Docker image: https://github.com/kaggle/docker-python\n",
    "# For example, here's several helpful packages to load\n",
    "\n",
    "import numpy as np # linear algebra\n",
    "import pandas as pd # data processing, CSV file I/O (e.g. pd.read_csv)\n",
    "\n",
    "# Input data files are available in the read-only \"../input/\" directory\n",
    "# For example, running this (by clicking run or pressing Shift+Enter) will list all files under the input directory\n",
    "\n",
    "import os\n",
    "for dirname, _, filenames in os.walk('/kaggle/input'):\n",
    "    for filename in filenames:\n",
    "        print(os.path.join(dirname, filename))\n",
    "\n",
    "# You can write up to 20GB to the current directory (/kaggle/working/) that gets preserved as output when you create a version using \"Save & Run All\" \n",
    "# You can also write temporary files to /kaggle/temp/, but they won't be saved outside of the current session"
   ]
  },
  {
   "cell_type": "code",
   "execution_count": 2,
   "id": "c6b3141e",
   "metadata": {
    "execution": {
     "iopub.execute_input": "2024-04-11T04:16:04.448267Z",
     "iopub.status.busy": "2024-04-11T04:16:04.447756Z",
     "iopub.status.idle": "2024-04-11T04:16:04.472613Z",
     "shell.execute_reply": "2024-04-11T04:16:04.471390Z"
    },
    "papermill": {
     "duration": 0.033965,
     "end_time": "2024-04-11T04:16:04.475381",
     "exception": false,
     "start_time": "2024-04-11T04:16:04.441416",
     "status": "completed"
    },
    "tags": []
   },
   "outputs": [],
   "source": [
    "#데이터 로드\n",
    "train = pd.read_csv('/kaggle/input/2024-ml-w6p2/train.csv')\n",
    "test = pd.read_csv('/kaggle/input/2024-ml-w6p2/test.csv')\n",
    "submit = pd.read_csv('/kaggle/input/2024-ml-w6p2/submit.csv')"
   ]
  },
  {
   "cell_type": "code",
   "execution_count": 3,
   "id": "419254b4",
   "metadata": {
    "execution": {
     "iopub.execute_input": "2024-04-11T04:16:04.487958Z",
     "iopub.status.busy": "2024-04-11T04:16:04.487577Z",
     "iopub.status.idle": "2024-04-11T04:16:04.493349Z",
     "shell.execute_reply": "2024-04-11T04:16:04.492225Z"
    },
    "papermill": {
     "duration": 0.014877,
     "end_time": "2024-04-11T04:16:04.495575",
     "exception": false,
     "start_time": "2024-04-11T04:16:04.480698",
     "status": "completed"
    },
    "tags": []
   },
   "outputs": [],
   "source": [
    "#랜덤시드 고정\n",
    "import random\n",
    "import os\n",
    "\n",
    "seed = 42\n",
    "random.seed(seed)\n",
    "np.random.seed(seed)\n",
    "os.environ[\"PYTHONHASHSEED\"] = str(seed)"
   ]
  },
  {
   "cell_type": "code",
   "execution_count": 4,
   "id": "bcef34ef",
   "metadata": {
    "execution": {
     "iopub.execute_input": "2024-04-11T04:16:04.508281Z",
     "iopub.status.busy": "2024-04-11T04:16:04.507272Z",
     "iopub.status.idle": "2024-04-11T04:16:04.531275Z",
     "shell.execute_reply": "2024-04-11T04:16:04.530206Z"
    },
    "papermill": {
     "duration": 0.033203,
     "end_time": "2024-04-11T04:16:04.534081",
     "exception": false,
     "start_time": "2024-04-11T04:16:04.500878",
     "status": "completed"
    },
    "tags": []
   },
   "outputs": [
    {
     "data": {
      "text/html": [
       "<div>\n",
       "<style scoped>\n",
       "    .dataframe tbody tr th:only-of-type {\n",
       "        vertical-align: middle;\n",
       "    }\n",
       "\n",
       "    .dataframe tbody tr th {\n",
       "        vertical-align: top;\n",
       "    }\n",
       "\n",
       "    .dataframe thead th {\n",
       "        text-align: right;\n",
       "    }\n",
       "</style>\n",
       "<table border=\"1\" class=\"dataframe\">\n",
       "  <thead>\n",
       "    <tr style=\"text-align: right;\">\n",
       "      <th></th>\n",
       "      <th>Pregnancies</th>\n",
       "      <th>Glucose</th>\n",
       "      <th>BloodPressure</th>\n",
       "      <th>SkinThickness</th>\n",
       "      <th>Insulin</th>\n",
       "      <th>BMI</th>\n",
       "      <th>DiabetesPedigreeFunction</th>\n",
       "      <th>Age</th>\n",
       "      <th>Diabetes</th>\n",
       "    </tr>\n",
       "  </thead>\n",
       "  <tbody>\n",
       "    <tr>\n",
       "      <th>0</th>\n",
       "      <td>1</td>\n",
       "      <td>95</td>\n",
       "      <td>60</td>\n",
       "      <td>18</td>\n",
       "      <td>58</td>\n",
       "      <td>23.9</td>\n",
       "      <td>0.260</td>\n",
       "      <td>22</td>\n",
       "      <td>0</td>\n",
       "    </tr>\n",
       "    <tr>\n",
       "      <th>1</th>\n",
       "      <td>5</td>\n",
       "      <td>105</td>\n",
       "      <td>72</td>\n",
       "      <td>29</td>\n",
       "      <td>325</td>\n",
       "      <td>36.9</td>\n",
       "      <td>0.159</td>\n",
       "      <td>28</td>\n",
       "      <td>0</td>\n",
       "    </tr>\n",
       "    <tr>\n",
       "      <th>2</th>\n",
       "      <td>0</td>\n",
       "      <td>135</td>\n",
       "      <td>68</td>\n",
       "      <td>42</td>\n",
       "      <td>250</td>\n",
       "      <td>42.3</td>\n",
       "      <td>0.365</td>\n",
       "      <td>24</td>\n",
       "      <td>1</td>\n",
       "    </tr>\n",
       "    <tr>\n",
       "      <th>3</th>\n",
       "      <td>4</td>\n",
       "      <td>131</td>\n",
       "      <td>68</td>\n",
       "      <td>21</td>\n",
       "      <td>166</td>\n",
       "      <td>33.1</td>\n",
       "      <td>0.160</td>\n",
       "      <td>28</td>\n",
       "      <td>0</td>\n",
       "    </tr>\n",
       "    <tr>\n",
       "      <th>4</th>\n",
       "      <td>1</td>\n",
       "      <td>103</td>\n",
       "      <td>30</td>\n",
       "      <td>38</td>\n",
       "      <td>83</td>\n",
       "      <td>43.3</td>\n",
       "      <td>0.183</td>\n",
       "      <td>33</td>\n",
       "      <td>0</td>\n",
       "    </tr>\n",
       "  </tbody>\n",
       "</table>\n",
       "</div>"
      ],
      "text/plain": [
       "   Pregnancies  Glucose  BloodPressure  SkinThickness  Insulin   BMI  \\\n",
       "0            1       95             60             18       58  23.9   \n",
       "1            5      105             72             29      325  36.9   \n",
       "2            0      135             68             42      250  42.3   \n",
       "3            4      131             68             21      166  33.1   \n",
       "4            1      103             30             38       83  43.3   \n",
       "\n",
       "   DiabetesPedigreeFunction  Age  Diabetes  \n",
       "0                     0.260   22         0  \n",
       "1                     0.159   28         0  \n",
       "2                     0.365   24         1  \n",
       "3                     0.160   28         0  \n",
       "4                     0.183   33         0  "
      ]
     },
     "execution_count": 4,
     "metadata": {},
     "output_type": "execute_result"
    }
   ],
   "source": [
    "#train 데이터 확인\n",
    "train.head()"
   ]
  },
  {
   "cell_type": "code",
   "execution_count": 5,
   "id": "e55a2316",
   "metadata": {
    "execution": {
     "iopub.execute_input": "2024-04-11T04:16:04.547198Z",
     "iopub.status.busy": "2024-04-11T04:16:04.546790Z",
     "iopub.status.idle": "2024-04-11T04:16:05.974970Z",
     "shell.execute_reply": "2024-04-11T04:16:05.973765Z"
    },
    "papermill": {
     "duration": 1.438288,
     "end_time": "2024-04-11T04:16:05.978201",
     "exception": false,
     "start_time": "2024-04-11T04:16:04.539913",
     "status": "completed"
    },
    "tags": []
   },
   "outputs": [],
   "source": [
    "#데이터 분할\n",
    "x = train.drop('Diabetes', axis=1)\n",
    "y = train['Diabetes']\n",
    "\n",
    "from sklearn.model_selection import train_test_split \n",
    "x_train,x_test,y_train,y_test=train_test_split(x,y, test_size=0.3, random_state=seed, stratify=y)"
   ]
  },
  {
   "cell_type": "code",
   "execution_count": 6,
   "id": "3a11b6db",
   "metadata": {
    "execution": {
     "iopub.execute_input": "2024-04-11T04:16:05.992667Z",
     "iopub.status.busy": "2024-04-11T04:16:05.991540Z",
     "iopub.status.idle": "2024-04-11T04:16:06.005699Z",
     "shell.execute_reply": "2024-04-11T04:16:06.004681Z"
    },
    "papermill": {
     "duration": 0.024288,
     "end_time": "2024-04-11T04:16:06.008450",
     "exception": false,
     "start_time": "2024-04-11T04:16:05.984162",
     "status": "completed"
    },
    "tags": []
   },
   "outputs": [],
   "source": [
    "#정규화\n",
    "from sklearn.preprocessing import StandardScaler\n",
    "std = StandardScaler()\n",
    "x_train_std = std.fit_transform(x_train)\n",
    "x_test_std = std.transform(x_test)"
   ]
  },
  {
   "cell_type": "code",
   "execution_count": 7,
   "id": "093f01eb",
   "metadata": {
    "execution": {
     "iopub.execute_input": "2024-04-11T04:16:06.022618Z",
     "iopub.status.busy": "2024-04-11T04:16:06.021414Z",
     "iopub.status.idle": "2024-04-11T04:16:06.155794Z",
     "shell.execute_reply": "2024-04-11T04:16:06.154631Z"
    },
    "papermill": {
     "duration": 0.144116,
     "end_time": "2024-04-11T04:16:06.158534",
     "exception": false,
     "start_time": "2024-04-11T04:16:06.014418",
     "status": "completed"
    },
    "tags": []
   },
   "outputs": [],
   "source": [
    "#QDA 학습\n",
    "from sklearn.discriminant_analysis import QuadraticDiscriminantAnalysis\n",
    "qda=QuadraticDiscriminantAnalysis()\n",
    "\n",
    "qda.fit(x_train_std, y_train) # QDA 적합\n",
    "y_train_pred=qda.predict(x_train_std)\n",
    "y_test_pred=qda.predict(x_test_std)"
   ]
  },
  {
   "cell_type": "code",
   "execution_count": 8,
   "id": "cc5d4d18",
   "metadata": {
    "execution": {
     "iopub.execute_input": "2024-04-11T04:16:06.171380Z",
     "iopub.status.busy": "2024-04-11T04:16:06.170616Z",
     "iopub.status.idle": "2024-04-11T04:16:06.181618Z",
     "shell.execute_reply": "2024-04-11T04:16:06.180736Z"
    },
    "papermill": {
     "duration": 0.019587,
     "end_time": "2024-04-11T04:16:06.183660",
     "exception": false,
     "start_time": "2024-04-11T04:16:06.164073",
     "status": "completed"
    },
    "tags": []
   },
   "outputs": [
    {
     "name": "stdout",
     "output_type": "stream",
     "text": [
      "0.7626666666666667\n",
      "0.808641975308642\n",
      "[[96  9]\n",
      " [22 35]]\n"
     ]
    }
   ],
   "source": [
    "#분류 성능\n",
    "from sklearn.metrics import accuracy_score\n",
    "print(accuracy_score(y_train, y_train_pred))\n",
    "print(accuracy_score(y_test, y_test_pred))\n",
    "\n",
    "#분류 결과\n",
    "from sklearn.metrics import confusion_matrix\n",
    "print(confusion_matrix(y_test, y_test_pred))"
   ]
  },
  {
   "cell_type": "code",
   "execution_count": 9,
   "id": "15dcc1b2",
   "metadata": {
    "execution": {
     "iopub.execute_input": "2024-04-11T04:16:06.197041Z",
     "iopub.status.busy": "2024-04-11T04:16:06.196340Z",
     "iopub.status.idle": "2024-04-11T04:16:06.219045Z",
     "shell.execute_reply": "2024-04-11T04:16:06.217718Z"
    },
    "papermill": {
     "duration": 0.032609,
     "end_time": "2024-04-11T04:16:06.222033",
     "exception": false,
     "start_time": "2024-04-11T04:16:06.189424",
     "status": "completed"
    },
    "tags": []
   },
   "outputs": [],
   "source": [
    "#LDA 학습\n",
    "from sklearn.discriminant_analysis import LinearDiscriminantAnalysis\n",
    "lda = LinearDiscriminantAnalysis()\n",
    "x_lda = lda.fit_transform(x_train_std, y_train) \n",
    "\n",
    "#예측\n",
    "y_train_pred = lda.predict(x_train_std)\n",
    "y_test_pred = lda.predict(x_test_std)"
   ]
  },
  {
   "cell_type": "code",
   "execution_count": 10,
   "id": "e4443a96",
   "metadata": {
    "execution": {
     "iopub.execute_input": "2024-04-11T04:16:06.235399Z",
     "iopub.status.busy": "2024-04-11T04:16:06.234954Z",
     "iopub.status.idle": "2024-04-11T04:16:06.245984Z",
     "shell.execute_reply": "2024-04-11T04:16:06.244748Z"
    },
    "papermill": {
     "duration": 0.020696,
     "end_time": "2024-04-11T04:16:06.248492",
     "exception": false,
     "start_time": "2024-04-11T04:16:06.227796",
     "status": "completed"
    },
    "tags": []
   },
   "outputs": [
    {
     "name": "stdout",
     "output_type": "stream",
     "text": [
      "0.7706666666666667\n",
      "0.8024691358024691\n",
      "[[98  7]\n",
      " [25 32]]\n"
     ]
    }
   ],
   "source": [
    "#분류 성능\n",
    "from sklearn.metrics import accuracy_score\n",
    "print(accuracy_score(y_train, y_train_pred))\n",
    "print(accuracy_score(y_test, y_test_pred))\n",
    "\n",
    "#분류 결과\n",
    "from sklearn.metrics import confusion_matrix\n",
    "print(confusion_matrix(y_test, y_test_pred))"
   ]
  },
  {
   "cell_type": "code",
   "execution_count": 11,
   "id": "223d25f2",
   "metadata": {
    "execution": {
     "iopub.execute_input": "2024-04-11T04:16:06.262032Z",
     "iopub.status.busy": "2024-04-11T04:16:06.261372Z",
     "iopub.status.idle": "2024-04-11T04:16:06.271178Z",
     "shell.execute_reply": "2024-04-11T04:16:06.270281Z"
    },
    "papermill": {
     "duration": 0.019894,
     "end_time": "2024-04-11T04:16:06.274027",
     "exception": false,
     "start_time": "2024-04-11T04:16:06.254133",
     "status": "completed"
    },
    "tags": []
   },
   "outputs": [],
   "source": [
    "#전체 테스트 데이터에 대해 학습\n",
    "qda.fit(x, y)\n",
    "test_pred = qda.predict(test)"
   ]
  },
  {
   "cell_type": "code",
   "execution_count": 12,
   "id": "b1c0051b",
   "metadata": {
    "execution": {
     "iopub.execute_input": "2024-04-11T04:16:06.287661Z",
     "iopub.status.busy": "2024-04-11T04:16:06.286968Z",
     "iopub.status.idle": "2024-04-11T04:16:06.296587Z",
     "shell.execute_reply": "2024-04-11T04:16:06.295636Z"
    },
    "papermill": {
     "duration": 0.019256,
     "end_time": "2024-04-11T04:16:06.299069",
     "exception": false,
     "start_time": "2024-04-11T04:16:06.279813",
     "status": "completed"
    },
    "tags": []
   },
   "outputs": [],
   "source": [
    "#제출\n",
    "submit['Diabetes'] = test_pred\n",
    "submit.to_csv('submit.csv', index=False)"
   ]
  },
  {
   "cell_type": "code",
   "execution_count": null,
   "id": "ce2980b1",
   "metadata": {
    "papermill": {
     "duration": 0.005737,
     "end_time": "2024-04-11T04:16:06.310856",
     "exception": false,
     "start_time": "2024-04-11T04:16:06.305119",
     "status": "completed"
    },
    "tags": []
   },
   "outputs": [],
   "source": []
  }
 ],
 "metadata": {
  "kaggle": {
   "accelerator": "none",
   "dataSources": [
    {
     "databundleVersionId": 8052811,
     "sourceId": 73190,
     "sourceType": "competition"
    }
   ],
   "dockerImageVersionId": 30684,
   "isGpuEnabled": false,
   "isInternetEnabled": true,
   "language": "python",
   "sourceType": "notebook"
  },
  "kernelspec": {
   "display_name": "Python 3",
   "language": "python",
   "name": "python3"
  },
  "language_info": {
   "codemirror_mode": {
    "name": "ipython",
    "version": 3
   },
   "file_extension": ".py",
   "mimetype": "text/x-python",
   "name": "python",
   "nbconvert_exporter": "python",
   "pygments_lexer": "ipython3",
   "version": "3.10.13"
  },
  "papermill": {
   "default_parameters": {},
   "duration": 6.54945,
   "end_time": "2024-04-11T04:16:06.937412",
   "environment_variables": {},
   "exception": null,
   "input_path": "__notebook__.ipynb",
   "output_path": "__notebook__.ipynb",
   "parameters": {},
   "start_time": "2024-04-11T04:16:00.387962",
   "version": "2.5.0"
  }
 },
 "nbformat": 4,
 "nbformat_minor": 5
}
