{
 "cells": [
  {
   "cell_type": "code",
   "execution_count": 1,
   "id": "b8ca383c",
   "metadata": {
    "_cell_guid": "b1076dfc-b9ad-4769-8c92-a6c4dae69d19",
    "_uuid": "8f2839f25d086af736a60e9eeb907d3b93b6e0e5",
    "execution": {
     "iopub.execute_input": "2024-05-09T03:34:53.819299Z",
     "iopub.status.busy": "2024-05-09T03:34:53.818585Z",
     "iopub.status.idle": "2024-05-09T03:34:54.570310Z",
     "shell.execute_reply": "2024-05-09T03:34:54.569265Z"
    },
    "papermill": {
     "duration": 0.76077,
     "end_time": "2024-05-09T03:34:54.573613",
     "exception": false,
     "start_time": "2024-05-09T03:34:53.812843",
     "status": "completed"
    },
    "tags": []
   },
   "outputs": [
    {
     "name": "stdout",
     "output_type": "stream",
     "text": [
      "/kaggle/input/2024-ml-w10p1/sample_submission.csv\n",
      "/kaggle/input/2024-ml-w10p1/X_test.csv\n",
      "/kaggle/input/2024-ml-w10p1/data.csv\n"
     ]
    }
   ],
   "source": [
    "# This Python 3 environment comes with many helpful analytics libraries installed\n",
    "# It is defined by the kaggle/python Docker image: https://github.com/kaggle/docker-python\n",
    "# For example, here's several helpful packages to load\n",
    "\n",
    "import numpy as np # linear algebra\n",
    "import pandas as pd # data processing, CSV file I/O (e.g. pd.read_csv)\n",
    "\n",
    "# Input data files are available in the read-only \"../input/\" directory\n",
    "# For example, running this (by clicking run or pressing Shift+Enter) will list all files under the input directory\n",
    "\n",
    "import os\n",
    "for dirname, _, filenames in os.walk('/kaggle/input'):\n",
    "    for filename in filenames:\n",
    "        print(os.path.join(dirname, filename))\n",
    "\n",
    "# You can write up to 20GB to the current directory (/kaggle/working/) that gets preserved as output when you create a version using \"Save & Run All\" \n",
    "# You can also write temporary files to /kaggle/temp/, but they won't be saved outside of the current session"
   ]
  },
  {
   "cell_type": "code",
   "execution_count": 2,
   "id": "89a49d8c",
   "metadata": {
    "execution": {
     "iopub.execute_input": "2024-05-09T03:34:54.582525Z",
     "iopub.status.busy": "2024-05-09T03:34:54.581514Z",
     "iopub.status.idle": "2024-05-09T03:34:54.634995Z",
     "shell.execute_reply": "2024-05-09T03:34:54.634032Z"
    },
    "papermill": {
     "duration": 0.060036,
     "end_time": "2024-05-09T03:34:54.637292",
     "exception": false,
     "start_time": "2024-05-09T03:34:54.577256",
     "status": "completed"
    },
    "tags": []
   },
   "outputs": [
    {
     "data": {
      "text/html": [
       "<div>\n",
       "<style scoped>\n",
       "    .dataframe tbody tr th:only-of-type {\n",
       "        vertical-align: middle;\n",
       "    }\n",
       "\n",
       "    .dataframe tbody tr th {\n",
       "        vertical-align: top;\n",
       "    }\n",
       "\n",
       "    .dataframe thead th {\n",
       "        text-align: right;\n",
       "    }\n",
       "</style>\n",
       "<table border=\"1\" class=\"dataframe\">\n",
       "  <thead>\n",
       "    <tr style=\"text-align: right;\">\n",
       "      <th></th>\n",
       "      <th>Day</th>\n",
       "      <th>Hour</th>\n",
       "      <th>Minute</th>\n",
       "      <th>DHI</th>\n",
       "      <th>DNI</th>\n",
       "      <th>WS</th>\n",
       "      <th>RH</th>\n",
       "      <th>T</th>\n",
       "      <th>TARGET</th>\n",
       "    </tr>\n",
       "  </thead>\n",
       "  <tbody>\n",
       "    <tr>\n",
       "      <th>0</th>\n",
       "      <td>102</td>\n",
       "      <td>0</td>\n",
       "      <td>0</td>\n",
       "      <td>0</td>\n",
       "      <td>0</td>\n",
       "      <td>1.4</td>\n",
       "      <td>57.76</td>\n",
       "      <td>0</td>\n",
       "      <td>0.000000</td>\n",
       "    </tr>\n",
       "    <tr>\n",
       "      <th>1</th>\n",
       "      <td>99</td>\n",
       "      <td>15</td>\n",
       "      <td>0</td>\n",
       "      <td>222</td>\n",
       "      <td>18</td>\n",
       "      <td>1.3</td>\n",
       "      <td>26.82</td>\n",
       "      <td>13</td>\n",
       "      <td>21.957266</td>\n",
       "    </tr>\n",
       "    <tr>\n",
       "      <th>2</th>\n",
       "      <td>31</td>\n",
       "      <td>4</td>\n",
       "      <td>0</td>\n",
       "      <td>0</td>\n",
       "      <td>0</td>\n",
       "      <td>2.6</td>\n",
       "      <td>84.94</td>\n",
       "      <td>-6</td>\n",
       "      <td>0.000000</td>\n",
       "    </tr>\n",
       "    <tr>\n",
       "      <th>3</th>\n",
       "      <td>40</td>\n",
       "      <td>18</td>\n",
       "      <td>30</td>\n",
       "      <td>0</td>\n",
       "      <td>0</td>\n",
       "      <td>1.5</td>\n",
       "      <td>89.18</td>\n",
       "      <td>2</td>\n",
       "      <td>0.000000</td>\n",
       "    </tr>\n",
       "    <tr>\n",
       "      <th>4</th>\n",
       "      <td>191</td>\n",
       "      <td>1</td>\n",
       "      <td>30</td>\n",
       "      <td>0</td>\n",
       "      <td>0</td>\n",
       "      <td>2.4</td>\n",
       "      <td>84.35</td>\n",
       "      <td>12</td>\n",
       "      <td>0.000000</td>\n",
       "    </tr>\n",
       "  </tbody>\n",
       "</table>\n",
       "</div>"
      ],
      "text/plain": [
       "   Day  Hour  Minute  DHI  DNI   WS     RH   T     TARGET\n",
       "0  102     0       0    0    0  1.4  57.76   0   0.000000\n",
       "1   99    15       0  222   18  1.3  26.82  13  21.957266\n",
       "2   31     4       0    0    0  2.6  84.94  -6   0.000000\n",
       "3   40    18      30    0    0  1.5  89.18   2   0.000000\n",
       "4  191     1      30    0    0  2.4  84.35  12   0.000000"
      ]
     },
     "execution_count": 2,
     "metadata": {},
     "output_type": "execute_result"
    }
   ],
   "source": [
    "#데이터셋 불러오기\n",
    "test = pd.read_csv(\"/kaggle/input/2024-ml-w10p1/X_test.csv\")\n",
    "train = pd.read_csv(\"/kaggle/input/2024-ml-w10p1/data.csv\")\n",
    "submit = pd.read_csv(\"/kaggle/input/2024-ml-w10p1/sample_submission.csv\")\n",
    "\n",
    "train.head()"
   ]
  },
  {
   "cell_type": "code",
   "execution_count": 3,
   "id": "0be08df6",
   "metadata": {
    "execution": {
     "iopub.execute_input": "2024-05-09T03:34:54.645655Z",
     "iopub.status.busy": "2024-05-09T03:34:54.645293Z",
     "iopub.status.idle": "2024-05-09T03:34:54.654675Z",
     "shell.execute_reply": "2024-05-09T03:34:54.653805Z"
    },
    "papermill": {
     "duration": 0.015898,
     "end_time": "2024-05-09T03:34:54.656762",
     "exception": false,
     "start_time": "2024-05-09T03:34:54.640864",
     "status": "completed"
    },
    "tags": []
   },
   "outputs": [],
   "source": [
    "#target 분리\n",
    "y = train['TARGET']\n",
    "X = train.drop(['TARGET'], axis=1)"
   ]
  },
  {
   "cell_type": "code",
   "execution_count": 4,
   "id": "f01769d3",
   "metadata": {
    "execution": {
     "iopub.execute_input": "2024-05-09T03:34:54.665191Z",
     "iopub.status.busy": "2024-05-09T03:34:54.664859Z",
     "iopub.status.idle": "2024-05-09T03:34:54.688554Z",
     "shell.execute_reply": "2024-05-09T03:34:54.687493Z"
    },
    "papermill": {
     "duration": 0.03065,
     "end_time": "2024-05-09T03:34:54.690973",
     "exception": false,
     "start_time": "2024-05-09T03:34:54.660323",
     "status": "completed"
    },
    "tags": []
   },
   "outputs": [
    {
     "name": "stdout",
     "output_type": "stream",
     "text": [
      "<class 'pandas.core.frame.DataFrame'>\n",
      "RangeIndex: 9000 entries, 0 to 8999\n",
      "Data columns (total 8 columns):\n",
      " #   Column  Non-Null Count  Dtype  \n",
      "---  ------  --------------  -----  \n",
      " 0   Day     9000 non-null   int64  \n",
      " 1   Hour    9000 non-null   int64  \n",
      " 2   Minute  9000 non-null   int64  \n",
      " 3   DHI     9000 non-null   int64  \n",
      " 4   DNI     9000 non-null   int64  \n",
      " 5   WS      9000 non-null   float64\n",
      " 6   RH      9000 non-null   float64\n",
      " 7   T       9000 non-null   int64  \n",
      "dtypes: float64(2), int64(6)\n",
      "memory usage: 562.6 KB\n",
      "<class 'pandas.core.frame.DataFrame'>\n",
      "RangeIndex: 1000 entries, 0 to 999\n",
      "Data columns (total 8 columns):\n",
      " #   Column  Non-Null Count  Dtype  \n",
      "---  ------  --------------  -----  \n",
      " 0   Day     1000 non-null   int64  \n",
      " 1   Hour    1000 non-null   int64  \n",
      " 2   Minute  1000 non-null   int64  \n",
      " 3   DHI     1000 non-null   int64  \n",
      " 4   DNI     1000 non-null   int64  \n",
      " 5   WS      1000 non-null   float64\n",
      " 6   RH      1000 non-null   float64\n",
      " 7   T       1000 non-null   int64  \n",
      "dtypes: float64(2), int64(6)\n",
      "memory usage: 62.6 KB\n"
     ]
    }
   ],
   "source": [
    "#데이터타입 확인\n",
    "X.info()\n",
    "test.info()"
   ]
  },
  {
   "cell_type": "code",
   "execution_count": 5,
   "id": "5b521ebb",
   "metadata": {
    "execution": {
     "iopub.execute_input": "2024-05-09T03:34:54.699928Z",
     "iopub.status.busy": "2024-05-09T03:34:54.699186Z",
     "iopub.status.idle": "2024-05-09T03:34:54.704404Z",
     "shell.execute_reply": "2024-05-09T03:34:54.703405Z"
    },
    "papermill": {
     "duration": 0.011817,
     "end_time": "2024-05-09T03:34:54.706401",
     "exception": false,
     "start_time": "2024-05-09T03:34:54.694584",
     "status": "completed"
    },
    "tags": []
   },
   "outputs": [],
   "source": [
    "#랜덤시드 고정\n",
    "import random\n",
    "import os\n",
    "seed = 42\n",
    "random.seed(seed)\n",
    "np.random.seed(seed)\n",
    "os.environ[\"PYTHONHASHSEED\"] = str(seed)\n"
   ]
  },
  {
   "cell_type": "code",
   "execution_count": 6,
   "id": "9a6d3c6d",
   "metadata": {
    "execution": {
     "iopub.execute_input": "2024-05-09T03:34:54.715204Z",
     "iopub.status.busy": "2024-05-09T03:34:54.714396Z",
     "iopub.status.idle": "2024-05-09T03:34:56.135561Z",
     "shell.execute_reply": "2024-05-09T03:34:56.134695Z"
    },
    "papermill": {
     "duration": 1.428128,
     "end_time": "2024-05-09T03:34:56.138085",
     "exception": false,
     "start_time": "2024-05-09T03:34:54.709957",
     "status": "completed"
    },
    "tags": []
   },
   "outputs": [],
   "source": [
    "#from sklearn import tree\n",
    "from sklearn.tree import DecisionTreeRegressor\n",
    "\n",
    "# Fit regression model\n",
    "regr_1 = DecisionTreeRegressor(max_depth=2)\n",
    "regr_2 = DecisionTreeRegressor(max_depth=5)\n",
    "regr_3 = DecisionTreeRegressor(random_state = seed)\n",
    "\n",
    "regr_1.fit(X, y)\n",
    "regr_2.fit(X, y)\n",
    "regr_3.fit(X, y)\n",
    "\n",
    "\n",
    "y_pred_1 = regr_1.predict(X)\n",
    "y_pred_2 = regr_2.predict(X)\n",
    "y_pred_3 = regr_3.predict(X)"
   ]
  },
  {
   "cell_type": "code",
   "execution_count": 7,
   "id": "e6c36ba6",
   "metadata": {
    "execution": {
     "iopub.execute_input": "2024-05-09T03:34:56.147406Z",
     "iopub.status.busy": "2024-05-09T03:34:56.146559Z",
     "iopub.status.idle": "2024-05-09T03:34:56.154972Z",
     "shell.execute_reply": "2024-05-09T03:34:56.153902Z"
    },
    "papermill": {
     "duration": 0.015123,
     "end_time": "2024-05-09T03:34:56.156926",
     "exception": false,
     "start_time": "2024-05-09T03:34:56.141803",
     "status": "completed"
    },
    "tags": []
   },
   "outputs": [
    {
     "name": "stdout",
     "output_type": "stream",
     "text": [
      "0.7923963379381191\n",
      "0.9555784335813352\n",
      "1.0\n"
     ]
    }
   ],
   "source": [
    "#정확도 출력\n",
    "from sklearn.metrics import r2_score\n",
    "print(r2_score(y, y_pred_1))\n",
    "print(r2_score(y, y_pred_2))\n",
    "print(r2_score(y, y_pred_3))"
   ]
  },
  {
   "cell_type": "code",
   "execution_count": 8,
   "id": "a2d4e313",
   "metadata": {
    "execution": {
     "iopub.execute_input": "2024-05-09T03:34:56.165309Z",
     "iopub.status.busy": "2024-05-09T03:34:56.164996Z",
     "iopub.status.idle": "2024-05-09T03:34:56.177022Z",
     "shell.execute_reply": "2024-05-09T03:34:56.175943Z"
    },
    "papermill": {
     "duration": 0.018688,
     "end_time": "2024-05-09T03:34:56.179217",
     "exception": false,
     "start_time": "2024-05-09T03:34:56.160529",
     "status": "completed"
    },
    "tags": []
   },
   "outputs": [
    {
     "name": "stdout",
     "output_type": "stream",
     "text": [
      "<class 'pandas.core.frame.DataFrame'>\n",
      "RangeIndex: 1000 entries, 0 to 999\n",
      "Data columns (total 2 columns):\n",
      " #   Column  Non-Null Count  Dtype\n",
      "---  ------  --------------  -----\n",
      " 0   INDEX   1000 non-null   int64\n",
      " 1   TARGET  1000 non-null   int64\n",
      "dtypes: int64(2)\n",
      "memory usage: 15.8 KB\n"
     ]
    }
   ],
   "source": [
    "# predict\n",
    "test_pred = regr_3.predict(test)\n",
    "\n",
    "#submit 확인\n",
    "submit.info()"
   ]
  },
  {
   "cell_type": "code",
   "execution_count": 9,
   "id": "71e1bd08",
   "metadata": {
    "execution": {
     "iopub.execute_input": "2024-05-09T03:34:56.188644Z",
     "iopub.status.busy": "2024-05-09T03:34:56.187781Z",
     "iopub.status.idle": "2024-05-09T03:34:56.196790Z",
     "shell.execute_reply": "2024-05-09T03:34:56.195974Z"
    },
    "papermill": {
     "duration": 0.015878,
     "end_time": "2024-05-09T03:34:56.198872",
     "exception": false,
     "start_time": "2024-05-09T03:34:56.182994",
     "status": "completed"
    },
    "tags": []
   },
   "outputs": [],
   "source": [
    "submit['TARGET'] = test_pred\n",
    "submit.to_csv('submit.csv', index=False)"
   ]
  },
  {
   "cell_type": "code",
   "execution_count": null,
   "id": "a7b426c3",
   "metadata": {
    "papermill": {
     "duration": 0.003561,
     "end_time": "2024-05-09T03:34:56.206277",
     "exception": false,
     "start_time": "2024-05-09T03:34:56.202716",
     "status": "completed"
    },
    "tags": []
   },
   "outputs": [],
   "source": []
  }
 ],
 "metadata": {
  "kaggle": {
   "accelerator": "none",
   "dataSources": [
    {
     "databundleVersionId": 8486656,
     "sourceId": 77568,
     "sourceType": "competition"
    }
   ],
   "dockerImageVersionId": 30698,
   "isGpuEnabled": false,
   "isInternetEnabled": true,
   "language": "python",
   "sourceType": "notebook"
  },
  "kernelspec": {
   "display_name": "Python 3",
   "language": "python",
   "name": "python3"
  },
  "language_info": {
   "codemirror_mode": {
    "name": "ipython",
    "version": 3
   },
   "file_extension": ".py",
   "mimetype": "text/x-python",
   "name": "python",
   "nbconvert_exporter": "python",
   "pygments_lexer": "ipython3",
   "version": "3.10.13"
  },
  "papermill": {
   "default_parameters": {},
   "duration": 5.630142,
   "end_time": "2024-05-09T03:34:56.830397",
   "environment_variables": {},
   "exception": null,
   "input_path": "__notebook__.ipynb",
   "output_path": "__notebook__.ipynb",
   "parameters": {},
   "start_time": "2024-05-09T03:34:51.200255",
   "version": "2.5.0"
  }
 },
 "nbformat": 4,
 "nbformat_minor": 5
}
