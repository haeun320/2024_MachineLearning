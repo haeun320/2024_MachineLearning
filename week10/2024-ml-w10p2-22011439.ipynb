{
 "cells": [
  {
   "cell_type": "code",
   "execution_count": 1,
   "id": "50130ed4",
   "metadata": {
    "_cell_guid": "b1076dfc-b9ad-4769-8c92-a6c4dae69d19",
    "_uuid": "8f2839f25d086af736a60e9eeb907d3b93b6e0e5",
    "execution": {
     "iopub.execute_input": "2024-05-09T03:48:40.716966Z",
     "iopub.status.busy": "2024-05-09T03:48:40.716421Z",
     "iopub.status.idle": "2024-05-09T03:48:41.871177Z",
     "shell.execute_reply": "2024-05-09T03:48:41.869400Z"
    },
    "papermill": {
     "duration": 1.166055,
     "end_time": "2024-05-09T03:48:41.875136",
     "exception": false,
     "start_time": "2024-05-09T03:48:40.709081",
     "status": "completed"
    },
    "tags": []
   },
   "outputs": [
    {
     "name": "stdout",
     "output_type": "stream",
     "text": [
      "/kaggle/input/2024-ml-w10p2/trainX.csv\n",
      "/kaggle/input/2024-ml-w10p2/testX.csv\n",
      "/kaggle/input/2024-ml-w10p2/trainY.csv\n",
      "/kaggle/input/2024-ml-w10p2/submit.csv\n"
     ]
    }
   ],
   "source": [
    "# This Python 3 environment comes with many helpful analytics libraries installed\n",
    "# It is defined by the kaggle/python Docker image: https://github.com/kaggle/docker-python\n",
    "# For example, here's several helpful packages to load\n",
    "\n",
    "import numpy as np # linear algebra\n",
    "import pandas as pd # data processing, CSV file I/O (e.g. pd.read_csv)\n",
    "\n",
    "# Input data files are available in the read-only \"../input/\" directory\n",
    "# For example, running this (by clicking run or pressing Shift+Enter) will list all files under the input directory\n",
    "\n",
    "import os\n",
    "for dirname, _, filenames in os.walk('/kaggle/input'):\n",
    "    for filename in filenames:\n",
    "        print(os.path.join(dirname, filename))\n",
    "\n",
    "# You can write up to 20GB to the current directory (/kaggle/working/) that gets preserved as output when you create a version using \"Save & Run All\" \n",
    "# You can also write temporary files to /kaggle/temp/, but they won't be saved outside of the current session"
   ]
  },
  {
   "cell_type": "code",
   "execution_count": 2,
   "id": "1023464d",
   "metadata": {
    "execution": {
     "iopub.execute_input": "2024-05-09T03:48:41.889944Z",
     "iopub.status.busy": "2024-05-09T03:48:41.888394Z",
     "iopub.status.idle": "2024-05-09T03:48:42.125397Z",
     "shell.execute_reply": "2024-05-09T03:48:42.124012Z"
    },
    "papermill": {
     "duration": 0.247303,
     "end_time": "2024-05-09T03:48:42.128457",
     "exception": false,
     "start_time": "2024-05-09T03:48:41.881154",
     "status": "completed"
    },
    "tags": []
   },
   "outputs": [],
   "source": [
    "#데이터셋 로드\n",
    "trainX = pd.read_csv(\"/kaggle/input/2024-ml-w10p2/trainX.csv\")\n",
    "testX = pd.read_csv(\"/kaggle/input/2024-ml-w10p2/testX.csv\")\n",
    "trainY = pd.read_csv(\"/kaggle/input/2024-ml-w10p2/trainY.csv\")\n",
    "submit = pd.read_csv(\"/kaggle/input/2024-ml-w10p2/submit.csv\")"
   ]
  },
  {
   "cell_type": "code",
   "execution_count": 3,
   "id": "53ac5f43",
   "metadata": {
    "execution": {
     "iopub.execute_input": "2024-05-09T03:48:42.142129Z",
     "iopub.status.busy": "2024-05-09T03:48:42.141426Z",
     "iopub.status.idle": "2024-05-09T03:48:42.147694Z",
     "shell.execute_reply": "2024-05-09T03:48:42.146223Z"
    },
    "papermill": {
     "duration": 0.016827,
     "end_time": "2024-05-09T03:48:42.151134",
     "exception": false,
     "start_time": "2024-05-09T03:48:42.134307",
     "status": "completed"
    },
    "tags": []
   },
   "outputs": [],
   "source": [
    "#랜덤시드 고정\n",
    "import random\n",
    "import os\n",
    "seed = 42\n",
    "random.seed(seed)\n",
    "np.random.seed(seed)\n",
    "os.environ[\"PYTHONHASHSEED\"] = str(seed)\n"
   ]
  },
  {
   "cell_type": "code",
   "execution_count": 4,
   "id": "28af3b6a",
   "metadata": {
    "execution": {
     "iopub.execute_input": "2024-05-09T03:48:42.164304Z",
     "iopub.status.busy": "2024-05-09T03:48:42.163906Z",
     "iopub.status.idle": "2024-05-09T03:48:42.202141Z",
     "shell.execute_reply": "2024-05-09T03:48:42.200923Z"
    },
    "papermill": {
     "duration": 0.048312,
     "end_time": "2024-05-09T03:48:42.204944",
     "exception": false,
     "start_time": "2024-05-09T03:48:42.156632",
     "status": "completed"
    },
    "tags": []
   },
   "outputs": [
    {
     "name": "stdout",
     "output_type": "stream",
     "text": [
      "<class 'pandas.core.frame.DataFrame'>\n",
      "RangeIndex: 6000 entries, 0 to 5999\n",
      "Data columns (total 2 columns):\n",
      " #   Column    Non-Null Count  Dtype \n",
      "---  ------    --------------  ----- \n",
      " 0   Id        6000 non-null   int64 \n",
      " 1   Category  6000 non-null   object\n",
      "dtypes: int64(1), object(1)\n",
      "memory usage: 93.9+ KB\n"
     ]
    }
   ],
   "source": [
    "#trainY 확인\n",
    "trainY.info()"
   ]
  },
  {
   "cell_type": "code",
   "execution_count": 5,
   "id": "dc12004b",
   "metadata": {
    "execution": {
     "iopub.execute_input": "2024-05-09T03:48:42.218635Z",
     "iopub.status.busy": "2024-05-09T03:48:42.217287Z",
     "iopub.status.idle": "2024-05-09T03:48:43.780402Z",
     "shell.execute_reply": "2024-05-09T03:48:43.779145Z"
    },
    "papermill": {
     "duration": 1.573164,
     "end_time": "2024-05-09T03:48:43.783623",
     "exception": false,
     "start_time": "2024-05-09T03:48:42.210459",
     "status": "completed"
    },
    "tags": []
   },
   "outputs": [],
   "source": [
    "from sklearn.preprocessing import LabelEncoder\n",
    "le = LabelEncoder()\n",
    "y = trainY['Category']\n",
    "y = le.fit_transform(y)"
   ]
  },
  {
   "cell_type": "code",
   "execution_count": 6,
   "id": "5df4937a",
   "metadata": {
    "execution": {
     "iopub.execute_input": "2024-05-09T03:48:43.797525Z",
     "iopub.status.busy": "2024-05-09T03:48:43.797096Z",
     "iopub.status.idle": "2024-05-09T03:48:43.827914Z",
     "shell.execute_reply": "2024-05-09T03:48:43.826220Z"
    },
    "papermill": {
     "duration": 0.040905,
     "end_time": "2024-05-09T03:48:43.830797",
     "exception": false,
     "start_time": "2024-05-09T03:48:43.789892",
     "status": "completed"
    },
    "tags": []
   },
   "outputs": [],
   "source": [
    "# 표준화\n",
    "from sklearn.preprocessing import StandardScaler\n",
    "sc = StandardScaler()\n",
    "sc.fit(trainX)\n",
    "trainX_std = sc.transform(trainX)\n",
    "testX_std = sc.transform(testX)"
   ]
  },
  {
   "cell_type": "code",
   "execution_count": 7,
   "id": "6c86fd4d",
   "metadata": {
    "execution": {
     "iopub.execute_input": "2024-05-09T03:48:43.844087Z",
     "iopub.status.busy": "2024-05-09T03:48:43.843422Z",
     "iopub.status.idle": "2024-05-09T03:48:44.829210Z",
     "shell.execute_reply": "2024-05-09T03:48:44.828060Z"
    },
    "papermill": {
     "duration": 0.99569,
     "end_time": "2024-05-09T03:48:44.832154",
     "exception": false,
     "start_time": "2024-05-09T03:48:43.836464",
     "status": "completed"
    },
    "tags": []
   },
   "outputs": [],
   "source": [
    "# Classification Tree# 또는 from sklearn import DecisionTreeClassifier\n",
    "from sklearn import tree\n",
    "dtc = tree.DecisionTreeClassifier(random_state=seed)\n",
    "dtc.fit(trainX_std, y)\n",
    "train_pred = dtc.predict(trainX_std) "
   ]
  },
  {
   "cell_type": "code",
   "execution_count": 8,
   "id": "14779166",
   "metadata": {
    "execution": {
     "iopub.execute_input": "2024-05-09T03:48:44.844847Z",
     "iopub.status.busy": "2024-05-09T03:48:44.844423Z",
     "iopub.status.idle": "2024-05-09T03:48:44.852923Z",
     "shell.execute_reply": "2024-05-09T03:48:44.851511Z"
    },
    "papermill": {
     "duration": 0.017894,
     "end_time": "2024-05-09T03:48:44.855546",
     "exception": false,
     "start_time": "2024-05-09T03:48:44.837652",
     "status": "completed"
    },
    "tags": []
   },
   "outputs": [
    {
     "name": "stdout",
     "output_type": "stream",
     "text": [
      "1.0\n"
     ]
    }
   ],
   "source": [
    "#정확도 출력\n",
    "from sklearn.metrics import accuracy_score\n",
    "print(accuracy_score(train_pred, y))"
   ]
  },
  {
   "cell_type": "code",
   "execution_count": 9,
   "id": "2bc1cc8b",
   "metadata": {
    "execution": {
     "iopub.execute_input": "2024-05-09T03:48:44.869424Z",
     "iopub.status.busy": "2024-05-09T03:48:44.869010Z",
     "iopub.status.idle": "2024-05-09T03:48:44.875960Z",
     "shell.execute_reply": "2024-05-09T03:48:44.874059Z"
    },
    "papermill": {
     "duration": 0.01812,
     "end_time": "2024-05-09T03:48:44.879287",
     "exception": false,
     "start_time": "2024-05-09T03:48:44.861167",
     "status": "completed"
    },
    "tags": []
   },
   "outputs": [],
   "source": [
    "#test 예측\n",
    "test_pred = dtc.predict(testX_std)"
   ]
  },
  {
   "cell_type": "code",
   "execution_count": 10,
   "id": "7a7e5873",
   "metadata": {
    "execution": {
     "iopub.execute_input": "2024-05-09T03:48:44.894797Z",
     "iopub.status.busy": "2024-05-09T03:48:44.894370Z",
     "iopub.status.idle": "2024-05-09T03:48:44.900234Z",
     "shell.execute_reply": "2024-05-09T03:48:44.898922Z"
    },
    "papermill": {
     "duration": 0.017063,
     "end_time": "2024-05-09T03:48:44.902596",
     "exception": false,
     "start_time": "2024-05-09T03:48:44.885533",
     "status": "completed"
    },
    "tags": []
   },
   "outputs": [],
   "source": [
    "#object로 되돌리기\n",
    "test_pred = le.inverse_transform(test_pred)"
   ]
  },
  {
   "cell_type": "code",
   "execution_count": 11,
   "id": "e98001c5",
   "metadata": {
    "execution": {
     "iopub.execute_input": "2024-05-09T03:48:44.916154Z",
     "iopub.status.busy": "2024-05-09T03:48:44.915731Z",
     "iopub.status.idle": "2024-05-09T03:48:44.931036Z",
     "shell.execute_reply": "2024-05-09T03:48:44.930196Z"
    },
    "papermill": {
     "duration": 0.025188,
     "end_time": "2024-05-09T03:48:44.933518",
     "exception": false,
     "start_time": "2024-05-09T03:48:44.908330",
     "status": "completed"
    },
    "tags": []
   },
   "outputs": [
    {
     "data": {
      "text/html": [
       "<div>\n",
       "<style scoped>\n",
       "    .dataframe tbody tr th:only-of-type {\n",
       "        vertical-align: middle;\n",
       "    }\n",
       "\n",
       "    .dataframe tbody tr th {\n",
       "        vertical-align: top;\n",
       "    }\n",
       "\n",
       "    .dataframe thead th {\n",
       "        text-align: right;\n",
       "    }\n",
       "</style>\n",
       "<table border=\"1\" class=\"dataframe\">\n",
       "  <thead>\n",
       "    <tr style=\"text-align: right;\">\n",
       "      <th></th>\n",
       "      <th>Id</th>\n",
       "      <th>Category</th>\n",
       "    </tr>\n",
       "  </thead>\n",
       "  <tbody>\n",
       "    <tr>\n",
       "      <th>0</th>\n",
       "      <td>0</td>\n",
       "      <td>none</td>\n",
       "    </tr>\n",
       "    <tr>\n",
       "      <th>1</th>\n",
       "      <td>1</td>\n",
       "      <td>none</td>\n",
       "    </tr>\n",
       "    <tr>\n",
       "      <th>2</th>\n",
       "      <td>2</td>\n",
       "      <td>none</td>\n",
       "    </tr>\n",
       "    <tr>\n",
       "      <th>3</th>\n",
       "      <td>3</td>\n",
       "      <td>none</td>\n",
       "    </tr>\n",
       "    <tr>\n",
       "      <th>4</th>\n",
       "      <td>4</td>\n",
       "      <td>none</td>\n",
       "    </tr>\n",
       "  </tbody>\n",
       "</table>\n",
       "</div>"
      ],
      "text/plain": [
       "   Id Category\n",
       "0   0     none\n",
       "1   1     none\n",
       "2   2     none\n",
       "3   3     none\n",
       "4   4     none"
      ]
     },
     "execution_count": 11,
     "metadata": {},
     "output_type": "execute_result"
    }
   ],
   "source": [
    "#submit 확인\n",
    "submit.head()"
   ]
  },
  {
   "cell_type": "code",
   "execution_count": 12,
   "id": "e94bdcac",
   "metadata": {
    "execution": {
     "iopub.execute_input": "2024-05-09T03:48:44.947556Z",
     "iopub.status.busy": "2024-05-09T03:48:44.946527Z",
     "iopub.status.idle": "2024-05-09T03:48:45.045081Z",
     "shell.execute_reply": "2024-05-09T03:48:45.043522Z"
    },
    "papermill": {
     "duration": 0.108557,
     "end_time": "2024-05-09T03:48:45.048004",
     "exception": false,
     "start_time": "2024-05-09T03:48:44.939447",
     "status": "completed"
    },
    "tags": []
   },
   "outputs": [],
   "source": [
    "#submit 저장\n",
    "submit['Category'] = test_pred\n",
    "submit.to_csv('submit.csv', index=False)"
   ]
  },
  {
   "cell_type": "code",
   "execution_count": null,
   "id": "e24e7ee8",
   "metadata": {
    "papermill": {
     "duration": 0.005551,
     "end_time": "2024-05-09T03:48:45.059767",
     "exception": false,
     "start_time": "2024-05-09T03:48:45.054216",
     "status": "completed"
    },
    "tags": []
   },
   "outputs": [],
   "source": []
  }
 ],
 "metadata": {
  "kaggle": {
   "accelerator": "none",
   "dataSources": [
    {
     "databundleVersionId": 8486770,
     "sourceId": 77570,
     "sourceType": "competition"
    }
   ],
   "dockerImageVersionId": 30698,
   "isGpuEnabled": false,
   "isInternetEnabled": true,
   "language": "python",
   "sourceType": "notebook"
  },
  "kernelspec": {
   "display_name": "Python 3",
   "language": "python",
   "name": "python3"
  },
  "language_info": {
   "codemirror_mode": {
    "name": "ipython",
    "version": 3
   },
   "file_extension": ".py",
   "mimetype": "text/x-python",
   "name": "python",
   "nbconvert_exporter": "python",
   "pygments_lexer": "ipython3",
   "version": "3.10.13"
  },
  "papermill": {
   "default_parameters": {},
   "duration": 8.48866,
   "end_time": "2024-05-09T03:48:45.688015",
   "environment_variables": {},
   "exception": null,
   "input_path": "__notebook__.ipynb",
   "output_path": "__notebook__.ipynb",
   "parameters": {},
   "start_time": "2024-05-09T03:48:37.199355",
   "version": "2.5.0"
  }
 },
 "nbformat": 4,
 "nbformat_minor": 5
}
